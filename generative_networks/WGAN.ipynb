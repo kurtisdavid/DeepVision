{
 "cells": [
  {
   "cell_type": "code",
   "execution_count": 1,
   "metadata": {},
   "outputs": [],
   "source": [
    "import torch\n",
    "import numpy as np"
   ]
  },
  {
   "cell_type": "markdown",
   "metadata": {},
   "source": [
    "### Load Dataset"
   ]
  },
  {
   "cell_type": "code",
   "execution_count": 2,
   "metadata": {},
   "outputs": [],
   "source": [
    "from torch.utils.data import DataLoader"
   ]
  },
  {
   "cell_type": "code",
   "execution_count": 3,
   "metadata": {},
   "outputs": [],
   "source": [
    "data = np.load('./dataset/data64.npy')"
   ]
  },
  {
   "cell_type": "code",
   "execution_count": 4,
   "metadata": {},
   "outputs": [
    {
     "data": {
      "text/plain": [
       "(3376, 3, 64, 64)"
      ]
     },
     "execution_count": 4,
     "metadata": {},
     "output_type": "execute_result"
    }
   ],
   "source": [
    "data.shape"
   ]
  },
  {
   "cell_type": "code",
   "execution_count": 5,
   "metadata": {},
   "outputs": [],
   "source": [
    "# normalize to [-1, 1] as said in DCGAN paper\n",
    "normalizer = lambda p: (p/255)*(1 - (-1)) - 1\n",
    "vfunc = np.vectorize(normalizer)\n",
    "data_n = vfunc(data)"
   ]
  },
  {
   "cell_type": "code",
   "execution_count": 6,
   "metadata": {},
   "outputs": [],
   "source": [
    "dataset = DataLoader(data_n,batch_size = 64,shuffle=True)"
   ]
  },
  {
   "cell_type": "code",
   "execution_count": null,
   "metadata": {},
   "outputs": [],
   "source": []
  },
  {
   "cell_type": "markdown",
   "metadata": {},
   "source": [
    "## WGAN"
   ]
  },
  {
   "cell_type": "code",
   "execution_count": 7,
   "metadata": {},
   "outputs": [],
   "source": [
    "import torch.nn as nn"
   ]
  },
  {
   "cell_type": "code",
   "execution_count": 8,
   "metadata": {},
   "outputs": [],
   "source": [
    "class Discriminator(nn.Module):\n",
    "    \n",
    "    def __init__(self, init_output = 64):\n",
    "        super(Discriminator,self).__init__()\n",
    "        params = {'kernel_size': 5, 'stride': 2, 'padding': 2}\n",
    "        self.init_output = init_output\n",
    "        \n",
    "        self.layer1 = nn.Sequential(\n",
    "            nn.Conv2d(in_channels = 3, out_channels = init_output, **params),\n",
    "            nn.BatchNorm2d(num_features = init_output),\n",
    "            nn.LeakyReLU(0.2)\n",
    "        )\n",
    "        self.layer2 = nn.Sequential(\n",
    "            nn.Conv2d(in_channels = init_output, out_channels = init_output*2, **params),\n",
    "            nn.BatchNorm2d(num_features = init_output*2),\n",
    "            nn.LeakyReLU(0.2)\n",
    "        )\n",
    "        self.layer3 = nn.Sequential(\n",
    "            nn.Conv2d(in_channels = init_output*2, out_channels = init_output*4, **params),\n",
    "            nn.BatchNorm2d(num_features = init_output*4),\n",
    "            nn.LeakyReLU(0.2)\n",
    "        )\n",
    "        self.layer4 = nn.Sequential(\n",
    "            nn.Conv2d(in_channels = init_output*4, out_channels = init_output*8, **params),\n",
    "            nn.BatchNorm2d(num_features = init_output*8),\n",
    "            nn.LeakyReLU(0.2)\n",
    "        )\n",
    "        self.output = nn.Linear(init_output*8*16,1)\n",
    "        self.layers = [self.layer1,self.layer2,self.layer3,self.layer4]\n",
    "        \n",
    "    def forward(self,X):\n",
    "        for layer in self.layers:\n",
    "            X = layer(X)\n",
    "        X = X.view(-1,self.init_output*8*16)\n",
    "        X = self.output(X)\n",
    "        return X"
   ]
  },
  {
   "cell_type": "code",
   "execution_count": 9,
   "metadata": {},
   "outputs": [],
   "source": [
    "class Generator(nn.Module):\n",
    "    \n",
    "    def __init__(self,total_out = 4*4*1024):\n",
    "        super(Generator,self).__init__()\n",
    "        \n",
    "        # don't forget to reshape after this\n",
    "        self.layer1 = nn.Sequential(\n",
    "            nn.Linear(100,out_features = total_out),\n",
    "            nn.BatchNorm1d(num_features = total_out)\n",
    "        )\n",
    "        p = lambda first: {'kernel_size': 5, 'stride': 2-first, 'padding': 2*(1-first), 'output_padding': 1-first}\n",
    "        \n",
    "        self.up1 = nn.Sequential(\n",
    "            nn.ConvTranspose2d(in_channels = 1024,out_channels = 512,**(p(1))),\n",
    "            nn.BatchNorm2d(num_features = 512),\n",
    "            nn.ReLU()\n",
    "        )\n",
    "        self.up2 = nn.Sequential(\n",
    "            nn.ConvTranspose2d(in_channels = 512,out_channels = 256,**(p(0))),\n",
    "            nn.BatchNorm2d(num_features = 256),\n",
    "            nn.ReLU()\n",
    "        )\n",
    "        self.up3 = nn.Sequential(\n",
    "            nn.ConvTranspose2d(in_channels = 256,out_channels = 128,**(p(0))),\n",
    "            nn.BatchNorm2d(num_features = 128),\n",
    "            nn.ReLU()\n",
    "        )\n",
    "        self.up4 = nn.Sequential(\n",
    "            nn.ConvTranspose2d(in_channels = 128,out_channels = 3,**(p(0))),\n",
    "            nn.Tanh()\n",
    "        )\n",
    "        self.upconv = [self.up1,self.up2,self.up3,self.up4]\n",
    "    \n",
    "    def forward(self,bs):\n",
    "        # sample from normal distribution\n",
    "        Z = torch.randn((bs,100)).cuda()\n",
    "        X = self.layer1(Z)\n",
    "        # reshape into 4D-tensor of 1 3d tensor\n",
    "        X = X.view(bs,1024,4,4)\n",
    "        for up in self.upconv:\n",
    "            X = up(X)\n",
    "        return X"
   ]
  },
  {
   "cell_type": "code",
   "execution_count": 16,
   "metadata": {},
   "outputs": [],
   "source": [
    "n_critics = 5\n",
    "critic = Discriminator().cuda()"
   ]
  },
  {
   "cell_type": "code",
   "execution_count": 17,
   "metadata": {},
   "outputs": [],
   "source": [
    "G = Generator().cuda()"
   ]
  },
  {
   "cell_type": "markdown",
   "metadata": {},
   "source": [
    "## Training"
   ]
  },
  {
   "cell_type": "code",
   "execution_count": 12,
   "metadata": {},
   "outputs": [],
   "source": [
    "import torchvision\n",
    "from torchvision import transforms"
   ]
  },
  {
   "cell_type": "code",
   "execution_count": 13,
   "metadata": {},
   "outputs": [],
   "source": [
    "flip = transforms.Compose([\n",
    "    transforms.ToPILImage(),\n",
    "    transforms.RandomHorizontalFlip()\n",
    "])"
   ]
  },
  {
   "cell_type": "code",
   "execution_count": 19,
   "metadata": {},
   "outputs": [
    {
     "name": "stdout",
     "output_type": "stream",
     "text": [
      "Epoch 0: Discriminator Loss: -1.266 \t Generator Loss: 0.642\n",
      "Epoch 1: Discriminator Loss: -1.239 \t Generator Loss: 0.667\n",
      "Epoch 2: Discriminator Loss: -1.304 \t Generator Loss: 0.690\n",
      "Epoch 3: Discriminator Loss: -1.356 \t Generator Loss: 0.704\n",
      "Epoch 4: Discriminator Loss: -1.288 \t Generator Loss: 0.693\n",
      "Epoch 5: Discriminator Loss: -1.187 \t Generator Loss: 0.673\n",
      "Epoch 6: Discriminator Loss: -1.148 \t Generator Loss: 0.656\n",
      "Epoch 7: Discriminator Loss: -1.097 \t Generator Loss: 0.647\n",
      "Epoch 8: Discriminator Loss: -1.000 \t Generator Loss: 0.626\n",
      "Epoch 9: Discriminator Loss: -1.076 \t Generator Loss: 0.630\n",
      "Epoch 10: Discriminator Loss: -1.079 \t Generator Loss: 0.631\n",
      "Epoch 11: Discriminator Loss: -1.082 \t Generator Loss: 0.608\n",
      "Epoch 12: Discriminator Loss: -1.077 \t Generator Loss: 0.631\n",
      "Epoch 13: Discriminator Loss: -1.042 \t Generator Loss: 0.611\n",
      "Epoch 14: Discriminator Loss: -1.081 \t Generator Loss: 0.615\n",
      "Epoch 15: Discriminator Loss: -1.051 \t Generator Loss: 0.587\n",
      "Epoch 16: Discriminator Loss: -1.098 \t Generator Loss: 0.599\n",
      "Epoch 17: Discriminator Loss: -1.088 \t Generator Loss: 0.565\n",
      "Epoch 18: Discriminator Loss: -1.122 \t Generator Loss: 0.640\n",
      "Epoch 19: Discriminator Loss: -1.128 \t Generator Loss: 0.598\n",
      "Epoch 20: Discriminator Loss: -1.202 \t Generator Loss: 0.659\n",
      "Epoch 21: Discriminator Loss: -1.142 \t Generator Loss: 0.601\n",
      "Epoch 22: Discriminator Loss: -1.125 \t Generator Loss: 0.606\n",
      "Epoch 23: Discriminator Loss: -1.110 \t Generator Loss: 0.617\n",
      "Epoch 24: Discriminator Loss: -1.149 \t Generator Loss: 0.618\n",
      "Epoch 25: Discriminator Loss: -1.134 \t Generator Loss: 0.598\n",
      "Epoch 26: Discriminator Loss: -1.171 \t Generator Loss: 0.631\n",
      "Epoch 27: Discriminator Loss: -1.128 \t Generator Loss: 0.582\n",
      "Epoch 28: Discriminator Loss: -1.141 \t Generator Loss: 0.581\n",
      "Epoch 29: Discriminator Loss: -1.132 \t Generator Loss: 0.619\n",
      "Epoch 30: Discriminator Loss: -1.167 \t Generator Loss: 0.622\n",
      "Epoch 31: Discriminator Loss: -1.172 \t Generator Loss: 0.616\n",
      "Epoch 32: Discriminator Loss: -1.109 \t Generator Loss: 0.545\n",
      "Epoch 33: Discriminator Loss: -1.161 \t Generator Loss: 0.620\n",
      "Epoch 34: Discriminator Loss: -1.127 \t Generator Loss: 0.558\n",
      "Epoch 35: Discriminator Loss: -1.129 \t Generator Loss: 0.619\n",
      "Epoch 36: Discriminator Loss: -1.149 \t Generator Loss: 0.570\n",
      "Epoch 37: Discriminator Loss: -1.087 \t Generator Loss: 0.579\n",
      "Epoch 38: Discriminator Loss: -1.125 \t Generator Loss: 0.613\n",
      "Epoch 39: Discriminator Loss: -1.159 \t Generator Loss: 0.622\n",
      "Epoch 40: Discriminator Loss: -1.109 \t Generator Loss: 0.552\n",
      "Epoch 41: Discriminator Loss: -1.130 \t Generator Loss: 0.599\n",
      "Epoch 42: Discriminator Loss: -1.124 \t Generator Loss: 0.570\n",
      "Epoch 43: Discriminator Loss: -1.167 \t Generator Loss: 0.612\n",
      "Epoch 44: Discriminator Loss: -1.105 \t Generator Loss: 0.591\n",
      "Epoch 45: Discriminator Loss: -1.165 \t Generator Loss: 0.626\n",
      "Epoch 46: Discriminator Loss: -1.123 \t Generator Loss: 0.555\n",
      "Epoch 47: Discriminator Loss: -1.142 \t Generator Loss: 0.614\n",
      "Epoch 48: Discriminator Loss: -1.132 \t Generator Loss: 0.603\n",
      "Epoch 49: Discriminator Loss: -1.105 \t Generator Loss: 0.575\n",
      "Epoch 50: Discriminator Loss: -1.120 \t Generator Loss: 0.602\n",
      "Epoch 51: Discriminator Loss: -1.126 \t Generator Loss: 0.600\n",
      "Epoch 52: Discriminator Loss: -1.099 \t Generator Loss: 0.608\n",
      "Epoch 53: Discriminator Loss: -1.122 \t Generator Loss: 0.560\n",
      "Epoch 54: Discriminator Loss: -1.083 \t Generator Loss: 0.593\n",
      "Epoch 55: Discriminator Loss: -1.109 \t Generator Loss: 0.595\n",
      "Epoch 56: Discriminator Loss: -1.110 \t Generator Loss: 0.593\n",
      "Epoch 57: Discriminator Loss: -1.102 \t Generator Loss: 0.599\n",
      "Epoch 58: Discriminator Loss: -1.076 \t Generator Loss: 0.547\n",
      "Epoch 59: Discriminator Loss: -1.068 \t Generator Loss: 0.584\n",
      "Epoch 60: Discriminator Loss: -1.077 \t Generator Loss: 0.582\n",
      "Epoch 61: Discriminator Loss: -1.078 \t Generator Loss: 0.547\n",
      "Epoch 62: Discriminator Loss: -1.082 \t Generator Loss: 0.590\n",
      "Epoch 63: Discriminator Loss: -1.066 \t Generator Loss: 0.586\n",
      "Epoch 64: Discriminator Loss: -1.060 \t Generator Loss: 0.571\n",
      "Epoch 65: Discriminator Loss: -1.064 \t Generator Loss: 0.578\n",
      "Epoch 66: Discriminator Loss: -1.057 \t Generator Loss: 0.560\n",
      "Epoch 67: Discriminator Loss: -1.041 \t Generator Loss: 0.570\n",
      "Epoch 68: Discriminator Loss: -1.042 \t Generator Loss: 0.574\n",
      "Epoch 69: Discriminator Loss: -1.040 \t Generator Loss: 0.574\n",
      "Epoch 70: Discriminator Loss: -1.047 \t Generator Loss: 0.570\n",
      "Epoch 71: Discriminator Loss: -1.039 \t Generator Loss: 0.576\n",
      "Epoch 72: Discriminator Loss: -1.041 \t Generator Loss: 0.565\n",
      "Epoch 73: Discriminator Loss: -1.034 \t Generator Loss: 0.576\n",
      "Epoch 74: Discriminator Loss: -1.021 \t Generator Loss: 0.555\n",
      "Epoch 75: Discriminator Loss: -1.060 \t Generator Loss: 0.567\n",
      "Epoch 76: Discriminator Loss: -1.018 \t Generator Loss: 0.552\n",
      "Epoch 77: Discriminator Loss: -1.040 \t Generator Loss: 0.557\n",
      "Epoch 78: Discriminator Loss: -1.005 \t Generator Loss: 0.560\n",
      "Epoch 79: Discriminator Loss: -1.012 \t Generator Loss: 0.552\n",
      "Epoch 80: Discriminator Loss: -1.018 \t Generator Loss: 0.551\n",
      "Epoch 81: Discriminator Loss: -1.012 \t Generator Loss: 0.535\n",
      "Epoch 82: Discriminator Loss: -1.009 \t Generator Loss: 0.545\n",
      "Epoch 83: Discriminator Loss: -1.012 \t Generator Loss: 0.546\n",
      "Epoch 84: Discriminator Loss: -0.986 \t Generator Loss: 0.543\n",
      "Epoch 85: Discriminator Loss: -1.001 \t Generator Loss: 0.558\n",
      "Epoch 86: Discriminator Loss: -0.984 \t Generator Loss: 0.548\n",
      "Epoch 87: Discriminator Loss: -0.975 \t Generator Loss: 0.504\n",
      "Epoch 88: Discriminator Loss: -1.002 \t Generator Loss: 0.561\n",
      "Epoch 89: Discriminator Loss: -0.977 \t Generator Loss: 0.542\n",
      "Epoch 90: Discriminator Loss: -0.988 \t Generator Loss: 0.545\n",
      "Epoch 91: Discriminator Loss: -0.962 \t Generator Loss: 0.532\n",
      "Epoch 92: Discriminator Loss: -0.985 \t Generator Loss: 0.561\n",
      "Epoch 93: Discriminator Loss: -0.972 \t Generator Loss: 0.529\n",
      "Epoch 94: Discriminator Loss: -1.013 \t Generator Loss: 0.518\n",
      "Epoch 95: Discriminator Loss: -0.987 \t Generator Loss: 0.558\n",
      "Epoch 96: Discriminator Loss: -0.973 \t Generator Loss: 0.546\n",
      "Epoch 97: Discriminator Loss: -0.983 \t Generator Loss: 0.536\n",
      "Epoch 98: Discriminator Loss: -0.983 \t Generator Loss: 0.533\n",
      "Epoch 99: Discriminator Loss: -0.961 \t Generator Loss: 0.523\n"
     ]
    }
   ],
   "source": [
    "optimizerD = torch.optim.Adam(critic.parameters(),lr = 0.00005, betas = (0.5,0.999))\n",
    "optimizerG = torch.optim.Adam(G.parameters(),lr = 0.00005, betas = (0.5,0.999))\n",
    "EPOCHS = 100\n",
    "for e in range(EPOCHS):\n",
    "    G.train()\n",
    "    d_losses = []\n",
    "    g_losses = []\n",
    "    for batch in dataset:\n",
    "        # critics\n",
    "        tmp = []\n",
    "        for _ in range(n_critics):\n",
    "            critic.zero_grad()\n",
    "            G.zero_grad()\n",
    "            true_mean = critic(batch.float().cuda()).mean()\n",
    "            gen_mean = critic(G(64)).mean()\n",
    "            critic_loss = gen_mean - true_mean # earth mover's\n",
    "            critic_loss.backward()\n",
    "            optimizerD.step()\n",
    "            # clip weights\n",
    "            for p in critic.parameters():\n",
    "                p.data.clamp_(-0.01, 0.01)\n",
    "            tmp.append(critic_loss.item())\n",
    "        d_losses.append(np.mean(tmp))\n",
    "        \n",
    "        # Generator Loss\n",
    "        G.zero_grad()\n",
    "        critic.zero_grad()\n",
    "        gen_loss = -1 * critic(G(64)).mean()\n",
    "        g_losses.append(gen_loss.item())\n",
    "        gen_loss.backward()\n",
    "        optimizerG.step()\n",
    "    print(\"Epoch %d: Discriminator Loss: %0.3f \\t Generator Loss: %.3f\" % (e,np.mean(d_losses),np.mean(g_losses)))\n",
    "    if e%5 == 0:\n",
    "        G.eval()\n",
    "        ex = G(12).cpu().detach().numpy()\n",
    "        out = np.moveaxis(ex,1,3)\n",
    "    #     imgs = vf(out)\n",
    "    #     imgs = np.clip(img,0,255).astype('uint8')\n",
    "        np.save('./results/wgan_anime_epoch_' + str(e),out)\n",
    "#     break\n",
    "    "
   ]
  },
  {
   "cell_type": "code",
   "execution_count": 20,
   "metadata": {},
   "outputs": [],
   "source": [
    "import matplotlib.pyplot as plt\n",
    "%matplotlib inline"
   ]
  },
  {
   "cell_type": "code",
   "execution_count": 22,
   "metadata": {},
   "outputs": [
    {
     "data": {
      "text/plain": [
       "Generator(\n",
       "  (layer1): Sequential(\n",
       "    (0): Linear(in_features=100, out_features=16384, bias=True)\n",
       "    (1): BatchNorm1d(16384, eps=1e-05, momentum=0.1, affine=True, track_running_stats=True)\n",
       "  )\n",
       "  (up1): Sequential(\n",
       "    (0): ConvTranspose2d(1024, 512, kernel_size=(5, 5), stride=(1, 1))\n",
       "    (1): BatchNorm2d(512, eps=1e-05, momentum=0.1, affine=True, track_running_stats=True)\n",
       "    (2): ReLU()\n",
       "  )\n",
       "  (up2): Sequential(\n",
       "    (0): ConvTranspose2d(512, 256, kernel_size=(5, 5), stride=(2, 2), padding=(2, 2), output_padding=(1, 1))\n",
       "    (1): BatchNorm2d(256, eps=1e-05, momentum=0.1, affine=True, track_running_stats=True)\n",
       "    (2): ReLU()\n",
       "  )\n",
       "  (up3): Sequential(\n",
       "    (0): ConvTranspose2d(256, 128, kernel_size=(5, 5), stride=(2, 2), padding=(2, 2), output_padding=(1, 1))\n",
       "    (1): BatchNorm2d(128, eps=1e-05, momentum=0.1, affine=True, track_running_stats=True)\n",
       "    (2): ReLU()\n",
       "  )\n",
       "  (up4): Sequential(\n",
       "    (0): ConvTranspose2d(128, 3, kernel_size=(5, 5), stride=(2, 2), padding=(2, 2), output_padding=(1, 1))\n",
       "    (1): Tanh()\n",
       "  )\n",
       ")"
      ]
     },
     "execution_count": 22,
     "metadata": {},
     "output_type": "execute_result"
    }
   ],
   "source": [
    "G.eval()"
   ]
  },
  {
   "cell_type": "code",
   "execution_count": 23,
   "metadata": {},
   "outputs": [],
   "source": [
    "out = G(1)[0].cpu().detach().numpy()"
   ]
  },
  {
   "cell_type": "code",
   "execution_count": 24,
   "metadata": {},
   "outputs": [],
   "source": [
    "out = np.moveaxis(out,0,2)"
   ]
  },
  {
   "cell_type": "code",
   "execution_count": 25,
   "metadata": {},
   "outputs": [],
   "source": [
    "denormalizer = lambda p: (p+1)*255/2"
   ]
  },
  {
   "cell_type": "code",
   "execution_count": 26,
   "metadata": {},
   "outputs": [],
   "source": [
    "vf = np.vectorize(denormalizer)"
   ]
  },
  {
   "cell_type": "code",
   "execution_count": 27,
   "metadata": {},
   "outputs": [],
   "source": [
    "img = vf(out)"
   ]
  },
  {
   "cell_type": "code",
   "execution_count": 28,
   "metadata": {},
   "outputs": [],
   "source": [
    "img = np.clip(img,0,255).astype('uint8')"
   ]
  },
  {
   "cell_type": "code",
   "execution_count": 29,
   "metadata": {},
   "outputs": [
    {
     "data": {
      "text/plain": [
       "<matplotlib.image.AxesImage at 0x25471bc81d0>"
      ]
     },
     "execution_count": 29,
     "metadata": {},
     "output_type": "execute_result"
    },
    {
     "data": {
      "image/png": "[encoded data removed]",
      "text/plain": [
       "<matplotlib.figure.Figure at 0x2544dc52240>"
      ]
     },
     "metadata": {},
     "output_type": "display_data"
    }
   ],
   "source": [
    "plt.imshow(img)"
   ]
  },
  {
   "cell_type": "code",
   "execution_count": 117,
   "metadata": {},
   "outputs": [
    {
     "data": {
      "text/plain": [
       "(64, 64, 3)"
      ]
     },
     "execution_count": 117,
     "metadata": {},
     "output_type": "execute_result"
    }
   ],
   "source": [
    "imgs.shape"
   ]
  },
  {
   "cell_type": "code",
   "execution_count": 115,
   "metadata": {},
   "outputs": [
    {
     "data": {
      "text/plain": [
       "(12, 3, 64, 64)"
      ]
     },
     "execution_count": 115,
     "metadata": {},
     "output_type": "execute_result"
    }
   ],
   "source": [
    "ex.shape"
   ]
  },
  {
   "cell_type": "code",
   "execution_count": null,
   "metadata": {},
   "outputs": [],
   "source": []
  }
 ],
 "metadata": {
  "kernelspec": {
   "display_name": "Python 3",
   "language": "python",
   "name": "python3"
  },
  "language_info": {
   "codemirror_mode": {
    "name": "ipython",
    "version": 3
   },
   "file_extension": ".py",
   "mimetype": "text/x-python",
   "name": "python",
   "nbconvert_exporter": "python",
   "pygments_lexer": "ipython3",
   "version": "3.6.4"
  }
 },
 "nbformat": 4,
 "nbformat_minor": 2
}
