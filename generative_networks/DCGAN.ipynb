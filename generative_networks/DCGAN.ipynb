{
 "cells": [
  {
   "cell_type": "code",
   "execution_count": 1,
   "metadata": {},
   "outputs": [],
   "source": [
    "import torch\n",
    "import numpy as np"
   ]
  },
  {
   "cell_type": "markdown",
   "metadata": {},
   "source": [
    "### Load Dataset"
   ]
  },
  {
   "cell_type": "code",
   "execution_count": 2,
   "metadata": {},
   "outputs": [],
   "source": [
    "from torch.utils.data import DataLoader"
   ]
  },
  {
   "cell_type": "code",
   "execution_count": 3,
   "metadata": {},
   "outputs": [],
   "source": [
    "data = np.load('./dataset/data64.npy')"
   ]
  },
  {
   "cell_type": "code",
   "execution_count": 4,
   "metadata": {},
   "outputs": [
    {
     "data": {
      "text/plain": [
       "(3376, 3, 64, 64)"
      ]
     },
     "execution_count": 4,
     "metadata": {},
     "output_type": "execute_result"
    }
   ],
   "source": [
    "data.shape"
   ]
  },
  {
   "cell_type": "code",
   "execution_count": 5,
   "metadata": {},
   "outputs": [],
   "source": [
    "# normalize to [-1, 1] as said in DCGAN paper\n",
    "normalizer = lambda p: (p/255)*(1 - (-1)) - 1\n",
    "vfunc = np.vectorize(normalizer)\n",
    "data_n = vfunc(data)"
   ]
  },
  {
   "cell_type": "code",
   "execution_count": 6,
   "metadata": {},
   "outputs": [],
   "source": [
    "dataset = DataLoader(data_n,batch_size = 64,shuffle=True)"
   ]
  },
  {
   "cell_type": "markdown",
   "metadata": {},
   "source": [
    "## DCGAN"
   ]
  },
  {
   "cell_type": "code",
   "execution_count": 7,
   "metadata": {},
   "outputs": [],
   "source": [
    "import torch.nn as nn"
   ]
  },
  {
   "cell_type": "code",
   "execution_count": 12,
   "metadata": {},
   "outputs": [],
   "source": [
    "# modeled after tensorflow implementation: https://github.com/carpedm20/DCGAN-tensorflow/blob/master/model.py\n",
    "class Discriminator(nn.Module):\n",
    "    \n",
    "    def __init__(self, init_output = 64):\n",
    "        super(Discriminator,self).__init__()\n",
    "        params = {'kernel_size': 5, 'stride': 2, 'padding': 2}\n",
    "        self.init_output = init_output\n",
    "        \n",
    "        self.layer1 = nn.Sequential(\n",
    "            nn.Conv2d(in_channels = 3, out_channels = init_output, **params),\n",
    "            nn.BatchNorm2d(num_features = init_output),\n",
    "            nn.LeakyReLU(0.2)\n",
    "        )\n",
    "        self.layer2 = nn.Sequential(\n",
    "            nn.Conv2d(in_channels = init_output, out_channels = init_output*2, **params),\n",
    "            nn.BatchNorm2d(num_features = init_output*2),\n",
    "            nn.LeakyReLU(0.2)\n",
    "        )\n",
    "        self.layer3 = nn.Sequential(\n",
    "            nn.Conv2d(in_channels = init_output*2, out_channels = init_output*4, **params),\n",
    "            nn.BatchNorm2d(num_features = init_output*4),\n",
    "            nn.LeakyReLU(0.2)\n",
    "        )\n",
    "        self.layer4 = nn.Sequential(\n",
    "            nn.Conv2d(in_channels = init_output*4, out_channels = init_output*8, **params),\n",
    "            nn.BatchNorm2d(num_features = init_output*8),\n",
    "            nn.LeakyReLU(0.2)\n",
    "        )\n",
    "        self.output = nn.Sequential(\n",
    "            nn.Linear(init_output*8*16,1),\n",
    "            nn.Sigmoid()\n",
    "        )\n",
    "        self.layers = [self.layer1,self.layer2,self.layer3,self.layer4]\n",
    "        \n",
    "    def forward(self,X):\n",
    "        for layer in self.layers:\n",
    "            X = layer(X)\n",
    "        X = X.view(-1,self.init_output*8*16)\n",
    "        X = self.output(X)\n",
    "        return X"
   ]
  },
  {
   "cell_type": "code",
   "execution_count": 109,
   "metadata": {},
   "outputs": [],
   "source": [
    "class Generator(nn.Module):\n",
    "    \n",
    "    def __init__(self,total_out = 4*4*1024):\n",
    "        super(Generator,self).__init__()\n",
    "        \n",
    "        # don't forget to reshape after this\n",
    "        self.layer1 = nn.Sequential(\n",
    "            nn.Linear(100,out_features = total_out),\n",
    "            nn.BatchNorm1d(num_features = total_out)\n",
    "        )\n",
    "        p = lambda first: {'kernel_size': 5, 'stride': 2-first, 'padding': 2*(1-first), 'output_padding': 1-first}\n",
    "        \n",
    "        self.up1 = nn.Sequential(\n",
    "            nn.ConvTranspose2d(in_channels = 1024,out_channels = 512,**(p(1))),\n",
    "            nn.BatchNorm2d(num_features = 512),\n",
    "            nn.ReLU()\n",
    "        )\n",
    "        self.up2 = nn.Sequential(\n",
    "            nn.ConvTranspose2d(in_channels = 512,out_channels = 256,**(p(0))),\n",
    "            nn.BatchNorm2d(num_features = 256),\n",
    "            nn.ReLU()\n",
    "        )\n",
    "        self.up3 = nn.Sequential(\n",
    "            nn.ConvTranspose2d(in_channels = 256,out_channels = 128,**(p(0))),\n",
    "            nn.BatchNorm2d(num_features = 128),\n",
    "            nn.ReLU()\n",
    "        )\n",
    "        self.up4 = nn.Sequential(\n",
    "            nn.ConvTranspose2d(in_channels = 128,out_channels = 3,**(p(0))),\n",
    "            nn.Tanh()\n",
    "        )\n",
    "        self.upconv = [self.up1,self.up2,self.up3,self.up4]\n",
    "    \n",
    "    def forward(self,bs):\n",
    "        # sample from normal distribution\n",
    "        Z = torch.randn((bs,100)).cuda()\n",
    "        X = self.layer1(Z)\n",
    "        # reshape into 4D-tensor of 1 3d tensor\n",
    "        X = X.view(bs,1024,4,4)\n",
    "        for up in self.upconv:\n",
    "            X = up(X)\n",
    "        return X"
   ]
  },
  {
   "cell_type": "code",
   "execution_count": 119,
   "metadata": {},
   "outputs": [],
   "source": [
    "D = Discriminator().cuda()"
   ]
  },
  {
   "cell_type": "code",
   "execution_count": 120,
   "metadata": {},
   "outputs": [],
   "source": [
    "G = Generator().cuda()"
   ]
  },
  {
   "cell_type": "markdown",
   "metadata": {},
   "source": [
    "## Training"
   ]
  },
  {
   "cell_type": "code",
   "execution_count": 13,
   "metadata": {},
   "outputs": [],
   "source": [
    "import torchvision\n",
    "from torchvision import transforms"
   ]
  },
  {
   "cell_type": "code",
   "execution_count": 42,
   "metadata": {},
   "outputs": [],
   "source": [
    "flip = transforms.Compose([\n",
    "    transforms.ToPILImage(),\n",
    "    transforms.RandomHorizontalFlip()\n",
    "])"
   ]
  },
  {
   "cell_type": "code",
   "execution_count": 121,
   "metadata": {},
   "outputs": [
    {
     "name": "stdout",
     "output_type": "stream",
     "text": [
      "Epoch 0: Discriminator Loss: 0.889 \t Generator Loss: 1.843\n",
      "Epoch 1: Discriminator Loss: 1.083 \t Generator Loss: 1.162\n",
      "Epoch 2: Discriminator Loss: 1.115 \t Generator Loss: 1.067\n",
      "Epoch 3: Discriminator Loss: 1.087 \t Generator Loss: 1.183\n",
      "Epoch 4: Discriminator Loss: 1.075 \t Generator Loss: 1.195\n",
      "Epoch 5: Discriminator Loss: 1.075 \t Generator Loss: 1.165\n",
      "Epoch 6: Discriminator Loss: 1.039 \t Generator Loss: 1.361\n",
      "Epoch 7: Discriminator Loss: 1.010 \t Generator Loss: 1.319\n",
      "Epoch 8: Discriminator Loss: 1.060 \t Generator Loss: 1.231\n",
      "Epoch 9: Discriminator Loss: 1.118 \t Generator Loss: 1.156\n",
      "Epoch 10: Discriminator Loss: 1.111 \t Generator Loss: 1.150\n",
      "Epoch 11: Discriminator Loss: 1.062 \t Generator Loss: 1.184\n",
      "Epoch 12: Discriminator Loss: 1.036 \t Generator Loss: 1.238\n",
      "Epoch 13: Discriminator Loss: 1.060 \t Generator Loss: 1.227\n",
      "Epoch 14: Discriminator Loss: 1.044 \t Generator Loss: 1.275\n",
      "Epoch 15: Discriminator Loss: 0.965 \t Generator Loss: 1.257\n",
      "Epoch 16: Discriminator Loss: 1.002 \t Generator Loss: 1.424\n",
      "Epoch 17: Discriminator Loss: 0.948 \t Generator Loss: 1.490\n",
      "Epoch 18: Discriminator Loss: 0.827 \t Generator Loss: 1.589\n",
      "Epoch 19: Discriminator Loss: 0.865 \t Generator Loss: 1.535\n",
      "Epoch 20: Discriminator Loss: 0.903 \t Generator Loss: 1.661\n",
      "Epoch 21: Discriminator Loss: 0.899 \t Generator Loss: 1.545\n",
      "Epoch 22: Discriminator Loss: 0.889 \t Generator Loss: 1.491\n",
      "Epoch 23: Discriminator Loss: 0.889 \t Generator Loss: 1.528\n",
      "Epoch 24: Discriminator Loss: 0.882 \t Generator Loss: 1.477\n",
      "Epoch 25: Discriminator Loss: 0.897 \t Generator Loss: 1.462\n",
      "Epoch 26: Discriminator Loss: 0.906 \t Generator Loss: 1.502\n",
      "Epoch 27: Discriminator Loss: 0.928 \t Generator Loss: 1.484\n",
      "Epoch 28: Discriminator Loss: 0.858 \t Generator Loss: 1.478\n",
      "Epoch 29: Discriminator Loss: 0.897 \t Generator Loss: 1.493\n",
      "Epoch 30: Discriminator Loss: 0.873 \t Generator Loss: 1.538\n",
      "Epoch 31: Discriminator Loss: 0.889 \t Generator Loss: 1.535\n",
      "Epoch 32: Discriminator Loss: 0.872 \t Generator Loss: 1.529\n",
      "Epoch 33: Discriminator Loss: 0.832 \t Generator Loss: 1.516\n",
      "Epoch 34: Discriminator Loss: 0.914 \t Generator Loss: 1.537\n",
      "Epoch 35: Discriminator Loss: 0.845 \t Generator Loss: 1.537\n",
      "Epoch 36: Discriminator Loss: 0.834 \t Generator Loss: 1.548\n",
      "Epoch 37: Discriminator Loss: 0.816 \t Generator Loss: 1.556\n",
      "Epoch 38: Discriminator Loss: 0.797 \t Generator Loss: 1.627\n",
      "Epoch 39: Discriminator Loss: 0.769 \t Generator Loss: 1.644\n",
      "Epoch 40: Discriminator Loss: 0.812 \t Generator Loss: 1.637\n",
      "Epoch 41: Discriminator Loss: 0.756 \t Generator Loss: 1.664\n",
      "Epoch 42: Discriminator Loss: 0.769 \t Generator Loss: 1.726\n",
      "Epoch 43: Discriminator Loss: 0.733 \t Generator Loss: 1.739\n",
      "Epoch 44: Discriminator Loss: 0.692 \t Generator Loss: 1.729\n",
      "Epoch 45: Discriminator Loss: 0.722 \t Generator Loss: 1.809\n",
      "Epoch 46: Discriminator Loss: 0.770 \t Generator Loss: 1.785\n",
      "Epoch 47: Discriminator Loss: 0.660 \t Generator Loss: 1.814\n",
      "Epoch 48: Discriminator Loss: 0.678 \t Generator Loss: 1.876\n",
      "Epoch 49: Discriminator Loss: 0.625 \t Generator Loss: 1.855\n",
      "Epoch 50: Discriminator Loss: 0.677 \t Generator Loss: 1.900\n",
      "Epoch 51: Discriminator Loss: 0.582 \t Generator Loss: 1.962\n",
      "Epoch 52: Discriminator Loss: 0.570 \t Generator Loss: 2.036\n",
      "Epoch 53: Discriminator Loss: 0.669 \t Generator Loss: 2.035\n",
      "Epoch 54: Discriminator Loss: 0.538 \t Generator Loss: 2.067\n",
      "Epoch 55: Discriminator Loss: 0.659 \t Generator Loss: 2.100\n",
      "Epoch 56: Discriminator Loss: 0.483 \t Generator Loss: 2.034\n",
      "Epoch 57: Discriminator Loss: 0.558 \t Generator Loss: 2.188\n",
      "Epoch 58: Discriminator Loss: 0.508 \t Generator Loss: 2.188\n",
      "Epoch 59: Discriminator Loss: 0.533 \t Generator Loss: 2.335\n",
      "Epoch 60: Discriminator Loss: 0.438 \t Generator Loss: 2.222\n",
      "Epoch 61: Discriminator Loss: 0.725 \t Generator Loss: 2.356\n",
      "Epoch 62: Discriminator Loss: 0.460 \t Generator Loss: 2.156\n",
      "Epoch 63: Discriminator Loss: 0.359 \t Generator Loss: 2.363\n",
      "Epoch 64: Discriminator Loss: 0.492 \t Generator Loss: 2.474\n",
      "Epoch 65: Discriminator Loss: 0.369 \t Generator Loss: 2.417\n",
      "Epoch 66: Discriminator Loss: 0.400 \t Generator Loss: 2.551\n",
      "Epoch 67: Discriminator Loss: 0.307 \t Generator Loss: 2.637\n",
      "Epoch 68: Discriminator Loss: 0.456 \t Generator Loss: 2.737\n",
      "Epoch 69: Discriminator Loss: 0.444 \t Generator Loss: 2.466\n",
      "Epoch 70: Discriminator Loss: 0.265 \t Generator Loss: 2.706\n",
      "Epoch 71: Discriminator Loss: 0.733 \t Generator Loss: 2.609\n",
      "Epoch 72: Discriminator Loss: 0.302 \t Generator Loss: 2.507\n",
      "Epoch 73: Discriminator Loss: 0.256 \t Generator Loss: 2.825\n",
      "Epoch 74: Discriminator Loss: 0.237 \t Generator Loss: 2.839\n",
      "Epoch 75: Discriminator Loss: 0.610 \t Generator Loss: 2.785\n",
      "Epoch 76: Discriminator Loss: 0.258 \t Generator Loss: 2.678\n",
      "Epoch 77: Discriminator Loss: 0.206 \t Generator Loss: 2.972\n",
      "Epoch 78: Discriminator Loss: 0.229 \t Generator Loss: 3.120\n",
      "Epoch 79: Discriminator Loss: 0.239 \t Generator Loss: 3.044\n",
      "Epoch 80: Discriminator Loss: 0.315 \t Generator Loss: 3.248\n",
      "Epoch 81: Discriminator Loss: 0.248 \t Generator Loss: 3.014\n",
      "Epoch 82: Discriminator Loss: 0.158 \t Generator Loss: 3.284\n",
      "Epoch 83: Discriminator Loss: 0.159 \t Generator Loss: 3.440\n",
      "Epoch 84: Discriminator Loss: 1.220 \t Generator Loss: 3.224\n",
      "Epoch 85: Discriminator Loss: 1.151 \t Generator Loss: 1.729\n",
      "Epoch 86: Discriminator Loss: 0.453 \t Generator Loss: 2.267\n",
      "Epoch 87: Discriminator Loss: 0.262 \t Generator Loss: 2.689\n",
      "Epoch 88: Discriminator Loss: 0.200 \t Generator Loss: 2.930\n",
      "Epoch 89: Discriminator Loss: 0.168 \t Generator Loss: 3.144\n",
      "Epoch 90: Discriminator Loss: 0.143 \t Generator Loss: 3.300\n",
      "Epoch 91: Discriminator Loss: 0.128 \t Generator Loss: 3.422\n",
      "Epoch 92: Discriminator Loss: 0.139 \t Generator Loss: 3.448\n",
      "Epoch 93: Discriminator Loss: 0.766 \t Generator Loss: 3.292\n",
      "Epoch 94: Discriminator Loss: 0.402 \t Generator Loss: 2.577\n",
      "Epoch 95: Discriminator Loss: 0.174 \t Generator Loss: 3.142\n",
      "Epoch 96: Discriminator Loss: 0.127 \t Generator Loss: 3.395\n",
      "Epoch 97: Discriminator Loss: 0.115 \t Generator Loss: 3.546\n",
      "Epoch 98: Discriminator Loss: 0.102 \t Generator Loss: 3.679\n",
      "Epoch 99: Discriminator Loss: 0.090 \t Generator Loss: 3.811\n"
     ]
    }
   ],
   "source": [
    "optimizerD = torch.optim.Adam(D.parameters(),lr = 0.0002, betas = (0.5,0.999))\n",
    "optimizerG = torch.optim.Adam(G.parameters(),lr = 0.0002, betas = (0.5,0.999))\n",
    "EPOCHS = 100\n",
    "loss = nn.BCELoss()\n",
    "for e in range(EPOCHS):\n",
    "    G.train()\n",
    "    d_losses = []\n",
    "    g_losses = []\n",
    "    for batch in dataset:\n",
    "        D.zero_grad()\n",
    "        # batch are true inputs!\n",
    "        \n",
    "        # Discriminator\n",
    "        true_out = D(batch.float().cuda())\n",
    "        true_loss = loss(true_out,torch.ones((batch.shape[0],1)).cuda())\n",
    "        true_loss.backward(retain_graph = True)\n",
    "        \n",
    "        # Determine generated is false\n",
    "        gen_out = D(G(64))\n",
    "        fake_loss = loss(gen_out,torch.zeros((64,1)).cuda())\n",
    "        fake_loss.backward(retain_graph = True)\n",
    "        \n",
    "        total_loss_D = true_loss + fake_loss\n",
    "        d_losses.append(total_loss_D.data)\n",
    "        optimizerD.step()\n",
    "        \n",
    "        ###\n",
    "        # Generator Loss\n",
    "        G.zero_grad()\n",
    "        gen_loss = loss(gen_out,torch.ones((64,1)).cuda())\n",
    "        g_losses.append(gen_loss.data)\n",
    "        gen_loss.backward(retain_graph = True)\n",
    "        optimizerG.step()\n",
    "    print(\"Epoch %d: Discriminator Loss: %0.3f \\t Generator Loss: %.3f\" % (e,np.mean(d_losses),np.mean(g_losses)))\n",
    "    if e%5 == 0:\n",
    "        G.eval()\n",
    "        ex = G(12).cpu().detach().numpy()\n",
    "        out = np.moveaxis(ex,1,3)\n",
    "    #     imgs = vf(out)\n",
    "    #     imgs = np.clip(img,0,255).astype('uint8')\n",
    "        np.save('./results/anime_epoch_' + str(e),out)\n",
    "#     break\n",
    "    "
   ]
  },
  {
   "cell_type": "code",
   "execution_count": 17,
   "metadata": {},
   "outputs": [],
   "source": [
    "import matplotlib.pyplot as plt\n",
    "%matplotlib inline"
   ]
  },
  {
   "cell_type": "code",
   "execution_count": 99,
   "metadata": {},
   "outputs": [],
   "source": [
    "out = G(1)[0].cpu().detach().numpy()"
   ]
  },
  {
   "cell_type": "code",
   "execution_count": 100,
   "metadata": {},
   "outputs": [],
   "source": [
    "out = np.moveaxis(out,0,2)"
   ]
  },
  {
   "cell_type": "code",
   "execution_count": 91,
   "metadata": {},
   "outputs": [],
   "source": [
    "denormalizer = lambda p: (p+1)*255/2"
   ]
  },
  {
   "cell_type": "code",
   "execution_count": 92,
   "metadata": {},
   "outputs": [],
   "source": [
    "vf = np.vectorize(denormalizer)"
   ]
  },
  {
   "cell_type": "code",
   "execution_count": 101,
   "metadata": {},
   "outputs": [],
   "source": [
    "img = vf(out)"
   ]
  },
  {
   "cell_type": "code",
   "execution_count": 102,
   "metadata": {},
   "outputs": [],
   "source": [
    "img = np.clip(img,0,255).astype('uint8')"
   ]
  },
  {
   "cell_type": "code",
   "execution_count": 103,
   "metadata": {},
   "outputs": [
    {
     "data": {
      "text/plain": [
       "<matplotlib.image.AxesImage at 0x1c5b40490b8>"
      ]
     },
     "execution_count": 103,
     "metadata": {},
     "output_type": "execute_result"
    },
    {
     "data": {
      "image/png": "[encoded data removed]",
      "text/plain": [
       "<matplotlib.figure.Figure at 0x1c5b3fb0be0>"
      ]
     },
     "metadata": {},
     "output_type": "display_data"
    }
   ],
   "source": [
    "plt.imshow(img)"
   ]
  },
  {
   "cell_type": "code",
   "execution_count": 117,
   "metadata": {},
   "outputs": [
    {
     "data": {
      "text/plain": [
       "(64, 64, 3)"
      ]
     },
     "execution_count": 117,
     "metadata": {},
     "output_type": "execute_result"
    }
   ],
   "source": [
    "imgs.shape"
   ]
  },
  {
   "cell_type": "code",
   "execution_count": 115,
   "metadata": {},
   "outputs": [
    {
     "data": {
      "text/plain": [
       "(12, 3, 64, 64)"
      ]
     },
     "execution_count": 115,
     "metadata": {},
     "output_type": "execute_result"
    }
   ],
   "source": [
    "ex.shape"
   ]
  },
  {
   "cell_type": "code",
   "execution_count": null,
   "metadata": {},
   "outputs": [],
   "source": []
  }
 ],
 "metadata": {
  "kernelspec": {
   "display_name": "Python 3",
   "language": "python",
   "name": "python3"
  },
  "language_info": {
   "codemirror_mode": {
    "name": "ipython",
    "version": 3
   },
   "file_extension": ".py",
   "mimetype": "text/x-python",
   "name": "python",
   "nbconvert_exporter": "python",
   "pygments_lexer": "ipython3",
   "version": "3.6.4"
  }
 },
 "nbformat": 4,
 "nbformat_minor": 2
}
