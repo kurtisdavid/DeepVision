{
 "cells": [
  {
   "cell_type": "code",
   "execution_count": 3,
   "metadata": {},
   "outputs": [],
   "source": [
    "import torch\n",
    "import numpy as np"
   ]
  },
  {
   "cell_type": "markdown",
   "metadata": {},
   "source": [
    "### Load Dataset"
   ]
  },
  {
   "cell_type": "code",
   "execution_count": 4,
   "metadata": {},
   "outputs": [],
   "source": [
    "from torch.utils.data import DataLoader"
   ]
  },
  {
   "cell_type": "code",
   "execution_count": 5,
   "metadata": {},
   "outputs": [],
   "source": [
    "data = np.load('./dataset/data64.npy')"
   ]
  },
  {
   "cell_type": "code",
   "execution_count": 6,
   "metadata": {},
   "outputs": [
    {
     "data": {
      "text/plain": [
       "(3376, 3, 64, 64)"
      ]
     },
     "execution_count": 6,
     "metadata": {},
     "output_type": "execute_result"
    }
   ],
   "source": [
    "data.shape"
   ]
  },
  {
   "cell_type": "code",
   "execution_count": 7,
   "metadata": {},
   "outputs": [],
   "source": [
    "# normalize to [-1, 1] as said in DCGAN paper\n",
    "normalizer = lambda p: (p/255)*(1 - (-1)) - 1\n",
    "vfunc = np.vectorize(normalizer)\n",
    "data_n = vfunc(data)"
   ]
  },
  {
   "cell_type": "code",
   "execution_count": 20,
   "metadata": {},
   "outputs": [],
   "source": [
    "dataset = DataLoader(data_n,batch_size = 128,shuffle=True)"
   ]
  },
  {
   "cell_type": "markdown",
   "metadata": {},
   "source": [
    "## DCGAN"
   ]
  },
  {
   "cell_type": "code",
   "execution_count": 8,
   "metadata": {},
   "outputs": [],
   "source": [
    "import torch.nn as nn"
   ]
  },
  {
   "cell_type": "code",
   "execution_count": 9,
   "metadata": {},
   "outputs": [],
   "source": [
    "# modeled after tensorflow implementation: https://github.com/carpedm20/DCGAN-tensorflow/blob/master/model.py\n",
    "class Discriminator(nn.Module):\n",
    "    \n",
    "    def __init__(self, init_output = 64):\n",
    "        super(Discriminator,self).__init__()\n",
    "        params = {'kernel_size': 5, 'stride': 2, 'padding': 2}\n",
    "        self.init_output = init_output\n",
    "        \n",
    "        self.layer1 = nn.Sequential(\n",
    "            nn.Conv2d(in_channels = 3, out_channels = init_output, **params),\n",
    "            nn.BatchNorm2d(num_features = init_output),\n",
    "            nn.LeakyReLU()\n",
    "        )\n",
    "        self.layer2 = nn.Sequential(\n",
    "            nn.Conv2d(in_channels = init_output, out_channels = init_output*2, **params),\n",
    "            nn.BatchNorm2d(num_features = init_output*2),\n",
    "            nn.LeakyReLU()\n",
    "        )\n",
    "        self.layer3 = nn.Sequential(\n",
    "            nn.Conv2d(in_channels = init_output*2, out_channels = init_output*4, **params),\n",
    "            nn.BatchNorm2d(num_features = init_output*4),\n",
    "            nn.LeakyReLU()\n",
    "        )\n",
    "        self.layer4 = nn.Sequential(\n",
    "            nn.Conv2d(in_channels = init_output*4, out_channels = init_output*8, **params),\n",
    "            nn.BatchNorm2d(num_features = init_output*8),\n",
    "            nn.LeakyReLU()\n",
    "        )\n",
    "        self.output = nn.Sequential(\n",
    "            nn.Linear(init_output*8*16,1),\n",
    "            nn.Sigmoid()\n",
    "        )\n",
    "        self.layers = [self.layer1,self.layer2,self.layer3,self.layer4]\n",
    "        \n",
    "    def forward(self,X):\n",
    "        for layer in self.layers:\n",
    "            X = layer(X)\n",
    "        X = X.view(-1,self.init_output*8*16)\n",
    "        X = self.output(X)\n",
    "        return X"
   ]
  },
  {
   "cell_type": "code",
   "execution_count": 10,
   "metadata": {},
   "outputs": [],
   "source": [
    "class Generator(nn.Module):\n",
    "    \n",
    "    def __init__(self,total_out = 4*4*1024):\n",
    "        super(Generator,self).__init__()\n",
    "        \n",
    "        # don't forget to reshape after this\n",
    "        self.layer1 = nn.Sequential(\n",
    "            nn.Linear(100,out_features = total_out)\n",
    "        )\n",
    "        p = lambda first: {'kernel_size': 5, 'stride': 2-first, 'padding': 2*(1-first), 'output_padding': 1-first}\n",
    "        \n",
    "        self.up1 = nn.Sequential(\n",
    "            nn.ConvTranspose2d(in_channels = 1024,out_channels = 512,**(p(1))),\n",
    "            nn.BatchNorm2d(num_features=512),\n",
    "            nn.ReLU()\n",
    "        )\n",
    "        self.up2 = nn.Sequential(\n",
    "            nn.ConvTranspose2d(in_channels = 512,out_channels = 256,**(p(0))),\n",
    "            nn.BatchNorm2d(num_features=256),\n",
    "            nn.ReLU()\n",
    "        )\n",
    "        self.up3 = nn.Sequential(\n",
    "            nn.ConvTranspose2d(in_channels = 256,out_channels = 128,**(p(0))),\n",
    "            nn.BatchNorm2d(num_features=128),\n",
    "            nn.ReLU()\n",
    "        )\n",
    "        self.up4 = nn.Sequential(\n",
    "            nn.ConvTranspose2d(in_channels = 128,out_channels = 3,**(p(0))),\n",
    "            nn.Tanh()\n",
    "        )\n",
    "        self.upconv = [self.up1,self.up2,self.up3,self.up4]\n",
    "    \n",
    "    def forward(self,bs):\n",
    "        # sample from normal distribution\n",
    "        Z = torch.randn((bs,100)).cuda()\n",
    "        X = self.layer1(Z)\n",
    "        # reshape into 4D-tensor of 1 3d tensor\n",
    "        X = X.view(bs,1024,4,4)\n",
    "        for up in self.upconv:\n",
    "            X = up(X)\n",
    "        return X"
   ]
  },
  {
   "cell_type": "code",
   "execution_count": 13,
   "metadata": {},
   "outputs": [],
   "source": [
    "D = Discriminator().cuda()"
   ]
  },
  {
   "cell_type": "code",
   "execution_count": 14,
   "metadata": {},
   "outputs": [],
   "source": [
    "G = Generator().cuda()"
   ]
  },
  {
   "cell_type": "markdown",
   "metadata": {},
   "source": [
    "## Training"
   ]
  },
  {
   "cell_type": "code",
   "execution_count": 13,
   "metadata": {},
   "outputs": [],
   "source": [
    "import torchvision\n",
    "from torchvision import transforms"
   ]
  },
  {
   "cell_type": "code",
   "execution_count": 11,
   "metadata": {},
   "outputs": [],
   "source": [
    "# custom weights initialization called on netG and netD\n",
    "def weights_init(m):\n",
    "    classname = m.__class__.__name__\n",
    "    if classname.find('Conv') != -1:\n",
    "        m.weight.data.normal_(0.0, 0.02)\n",
    "    elif classname.find('BatchNorm') != -1:\n",
    "        m.weight.data.normal_(1.0, 0.02)\n",
    "        m.bias.data.fill_(0)"
   ]
  },
  {
   "cell_type": "code",
   "execution_count": 19,
   "metadata": {},
   "outputs": [
    {
     "data": {
      "text/plain": [
       "Generator(\n",
       "  (layer1): Sequential(\n",
       "    (0): Linear(in_features=100, out_features=16384, bias=True)\n",
       "  )\n",
       "  (up1): Sequential(\n",
       "    (0): ConvTranspose2d(1024, 512, kernel_size=(5, 5), stride=(1, 1))\n",
       "    (1): BatchNorm2d(512, eps=1e-05, momentum=0.1, affine=True, track_running_stats=True)\n",
       "    (2): ReLU()\n",
       "  )\n",
       "  (up2): Sequential(\n",
       "    (0): ConvTranspose2d(512, 256, kernel_size=(5, 5), stride=(2, 2), padding=(2, 2), output_padding=(1, 1))\n",
       "    (1): BatchNorm2d(256, eps=1e-05, momentum=0.1, affine=True, track_running_stats=True)\n",
       "    (2): ReLU()\n",
       "  )\n",
       "  (up3): Sequential(\n",
       "    (0): ConvTranspose2d(256, 128, kernel_size=(5, 5), stride=(2, 2), padding=(2, 2), output_padding=(1, 1))\n",
       "    (1): BatchNorm2d(128, eps=1e-05, momentum=0.1, affine=True, track_running_stats=True)\n",
       "    (2): ReLU()\n",
       "  )\n",
       "  (up4): Sequential(\n",
       "    (0): ConvTranspose2d(128, 3, kernel_size=(5, 5), stride=(2, 2), padding=(2, 2), output_padding=(1, 1))\n",
       "    (1): Tanh()\n",
       "  )\n",
       ")"
      ]
     },
     "execution_count": 19,
     "metadata": {},
     "output_type": "execute_result"
    }
   ],
   "source": [
    "D.apply(weights_init)\n",
    "G.apply(weights_init)"
   ]
  },
  {
   "cell_type": "code",
   "execution_count": 42,
   "metadata": {},
   "outputs": [],
   "source": [
    "flip = transforms.Compose([\n",
    "    transforms.ToPILImage(),\n",
    "    transforms.RandomHorizontalFlip()\n",
    "])"
   ]
  },
  {
   "cell_type": "code",
   "execution_count": 22,
   "metadata": {},
   "outputs": [
    {
     "name": "stdout",
     "output_type": "stream",
     "text": [
      "Epoch 0: Discriminator Loss: 0.375 \t Generator Loss: 2.766\n",
      "Epoch 1: Discriminator Loss: 0.349 \t Generator Loss: 5.644\n",
      "Epoch 2: Discriminator Loss: 0.691 \t Generator Loss: 3.332\n",
      "Epoch 3: Discriminator Loss: 0.559 \t Generator Loss: 2.423\n",
      "Epoch 4: Discriminator Loss: 0.693 \t Generator Loss: 3.082\n",
      "Epoch 5: Discriminator Loss: 0.671 \t Generator Loss: 2.614\n",
      "Epoch 6: Discriminator Loss: 0.656 \t Generator Loss: 2.581\n",
      "Epoch 7: Discriminator Loss: 0.620 \t Generator Loss: 2.456\n",
      "Epoch 8: Discriminator Loss: 0.742 \t Generator Loss: 2.369\n",
      "Epoch 9: Discriminator Loss: 0.772 \t Generator Loss: 2.595\n",
      "Epoch 10: Discriminator Loss: 0.671 \t Generator Loss: 2.180\n",
      "Epoch 11: Discriminator Loss: 0.710 \t Generator Loss: 2.208\n",
      "Epoch 12: Discriminator Loss: 0.693 \t Generator Loss: 2.302\n",
      "Epoch 13: Discriminator Loss: 0.739 \t Generator Loss: 2.521\n",
      "Epoch 14: Discriminator Loss: 0.675 \t Generator Loss: 2.196\n",
      "Epoch 15: Discriminator Loss: 0.717 \t Generator Loss: 2.295\n",
      "Epoch 16: Discriminator Loss: 0.791 \t Generator Loss: 2.365\n",
      "Epoch 17: Discriminator Loss: 0.635 \t Generator Loss: 2.209\n",
      "Epoch 18: Discriminator Loss: 0.666 \t Generator Loss: 2.242\n",
      "Epoch 19: Discriminator Loss: 0.730 \t Generator Loss: 2.135\n",
      "Epoch 20: Discriminator Loss: 0.720 \t Generator Loss: 2.290\n",
      "Epoch 21: Discriminator Loss: 0.688 \t Generator Loss: 2.173\n",
      "Epoch 22: Discriminator Loss: 0.733 \t Generator Loss: 2.285\n",
      "Epoch 23: Discriminator Loss: 0.809 \t Generator Loss: 2.163\n",
      "Epoch 24: Discriminator Loss: 0.663 \t Generator Loss: 2.166\n",
      "Epoch 25: Discriminator Loss: 0.657 \t Generator Loss: 2.149\n",
      "Epoch 26: Discriminator Loss: 0.698 \t Generator Loss: 2.216\n",
      "Epoch 27: Discriminator Loss: 0.655 \t Generator Loss: 2.240\n",
      "Epoch 28: Discriminator Loss: 0.563 \t Generator Loss: 2.276\n",
      "Epoch 29: Discriminator Loss: 0.691 \t Generator Loss: 2.388\n",
      "Epoch 30: Discriminator Loss: 0.874 \t Generator Loss: 2.224\n",
      "Epoch 31: Discriminator Loss: 0.667 \t Generator Loss: 2.033\n",
      "Epoch 32: Discriminator Loss: 0.625 \t Generator Loss: 2.302\n",
      "Epoch 33: Discriminator Loss: 0.540 \t Generator Loss: 2.264\n",
      "Epoch 34: Discriminator Loss: 0.574 \t Generator Loss: 2.470\n",
      "Epoch 35: Discriminator Loss: 0.569 \t Generator Loss: 2.443\n",
      "Epoch 36: Discriminator Loss: 0.624 \t Generator Loss: 2.554\n",
      "Epoch 37: Discriminator Loss: 0.559 \t Generator Loss: 2.369\n",
      "Epoch 38: Discriminator Loss: 0.666 \t Generator Loss: 2.629\n",
      "Epoch 39: Discriminator Loss: 0.437 \t Generator Loss: 2.282\n",
      "Epoch 40: Discriminator Loss: 0.460 \t Generator Loss: 2.523\n",
      "Epoch 41: Discriminator Loss: 0.510 \t Generator Loss: 2.548\n",
      "Epoch 42: Discriminator Loss: 0.790 \t Generator Loss: 2.812\n",
      "Epoch 43: Discriminator Loss: 0.477 \t Generator Loss: 2.238\n",
      "Epoch 44: Discriminator Loss: 0.546 \t Generator Loss: 2.624\n",
      "Epoch 45: Discriminator Loss: 0.555 \t Generator Loss: 2.542\n",
      "Epoch 46: Discriminator Loss: 0.580 \t Generator Loss: 2.462\n",
      "Epoch 47: Discriminator Loss: 0.597 \t Generator Loss: 2.384\n",
      "Epoch 48: Discriminator Loss: 0.625 \t Generator Loss: 2.448\n",
      "Epoch 49: Discriminator Loss: 0.404 \t Generator Loss: 2.243\n",
      "Epoch 50: Discriminator Loss: 0.661 \t Generator Loss: 2.609\n",
      "Epoch 51: Discriminator Loss: 0.546 \t Generator Loss: 2.336\n",
      "Epoch 52: Discriminator Loss: 0.502 \t Generator Loss: 2.376\n",
      "Epoch 53: Discriminator Loss: 0.674 \t Generator Loss: 2.426\n",
      "Epoch 54: Discriminator Loss: 0.600 \t Generator Loss: 2.357\n",
      "Epoch 55: Discriminator Loss: 0.459 \t Generator Loss: 2.252\n",
      "Epoch 56: Discriminator Loss: 0.575 \t Generator Loss: 2.384\n",
      "Epoch 57: Discriminator Loss: 0.666 \t Generator Loss: 2.540\n",
      "Epoch 58: Discriminator Loss: 0.426 \t Generator Loss: 2.210\n"
     ]
    },
    {
     "ename": "KeyboardInterrupt",
     "evalue": "",
     "output_type": "error",
     "traceback": [
      "\u001b[1;31m---------------------------------------------------------------------------\u001b[0m",
      "\u001b[1;31mKeyboardInterrupt\u001b[0m                         Traceback (most recent call last)",
      "\u001b[1;32m<ipython-input-22-5dd66696456f>\u001b[0m in \u001b[0;36m<module>\u001b[1;34m()\u001b[0m\n\u001b[0;32m     27\u001b[0m         \u001b[1;31m###\u001b[0m\u001b[1;33m\u001b[0m\u001b[1;33m\u001b[0m\u001b[0m\n\u001b[0;32m     28\u001b[0m         \u001b[1;31m# Generator Loss\u001b[0m\u001b[1;33m\u001b[0m\u001b[1;33m\u001b[0m\u001b[0m\n\u001b[1;32m---> 29\u001b[1;33m         \u001b[0mgen_loss\u001b[0m \u001b[1;33m=\u001b[0m \u001b[0mloss\u001b[0m\u001b[1;33m(\u001b[0m\u001b[0mgen_out\u001b[0m\u001b[1;33m,\u001b[0m\u001b[0mtorch\u001b[0m\u001b[1;33m.\u001b[0m\u001b[0mones\u001b[0m\u001b[1;33m(\u001b[0m\u001b[1;33m(\u001b[0m\u001b[0mbatch\u001b[0m\u001b[1;33m.\u001b[0m\u001b[0mshape\u001b[0m\u001b[1;33m[\u001b[0m\u001b[1;36m0\u001b[0m\u001b[1;33m]\u001b[0m\u001b[1;33m,\u001b[0m\u001b[1;36m1\u001b[0m\u001b[1;33m)\u001b[0m\u001b[1;33m)\u001b[0m\u001b[1;33m.\u001b[0m\u001b[0mcuda\u001b[0m\u001b[1;33m(\u001b[0m\u001b[1;33m)\u001b[0m\u001b[1;33m)\u001b[0m\u001b[1;33m\u001b[0m\u001b[0m\n\u001b[0m\u001b[0;32m     30\u001b[0m         \u001b[0mg_losses\u001b[0m\u001b[1;33m.\u001b[0m\u001b[0mappend\u001b[0m\u001b[1;33m(\u001b[0m\u001b[0mgen_loss\u001b[0m\u001b[1;33m.\u001b[0m\u001b[0mdata\u001b[0m\u001b[1;33m)\u001b[0m\u001b[1;33m\u001b[0m\u001b[0m\n\u001b[0;32m     31\u001b[0m         \u001b[0mgen_loss\u001b[0m\u001b[1;33m.\u001b[0m\u001b[0mbackward\u001b[0m\u001b[1;33m(\u001b[0m\u001b[0mretain_graph\u001b[0m \u001b[1;33m=\u001b[0m \u001b[1;32mTrue\u001b[0m\u001b[1;33m)\u001b[0m\u001b[1;33m\u001b[0m\u001b[0m\n",
      "\u001b[1;31mKeyboardInterrupt\u001b[0m: "
     ]
    }
   ],
   "source": [
    "optimizerD = torch.optim.Adam(D.parameters(),lr = 0.0002, betas = (0.5,0.999))\n",
    "optimizerG = torch.optim.Adam(G.parameters(),lr = 0.0002, betas = (0.5,0.999))\n",
    "EPOCHS = 100\n",
    "loss = nn.BCELoss()\n",
    "for e in range(EPOCHS):\n",
    "    d_losses = []\n",
    "    g_losses = []\n",
    "    for batch in dataset:\n",
    "        optimizerD.zero_grad()\n",
    "        optimizerG.zero_grad()\n",
    "        # batch are true inputs!\n",
    "        \n",
    "        # Discriminator\n",
    "        true_out = D(batch.float().cuda())\n",
    "        true_loss = loss(true_out,torch.ones((batch.shape[0],1)).cuda())\n",
    "        true_loss.backward(retain_graph = True)\n",
    "        \n",
    "        # Determine generated is false\n",
    "        gen_out = D(G(batch.shape[0]))\n",
    "        fake_loss = loss(gen_out,torch.zeros((batch.shape[0],1)).cuda())\n",
    "        fake_loss.backward(retain_graph = True)\n",
    "        \n",
    "        total_loss_D = true_loss + fake_loss\n",
    "        d_losses.append(total_loss_D.data)\n",
    "        optimizerD.step()\n",
    "        \n",
    "        ###\n",
    "        # Generator Loss\n",
    "        gen_loss = loss(gen_out,torch.ones((batch.shape[0],1)).cuda())\n",
    "        g_losses.append(gen_loss.data)\n",
    "        gen_loss.backward(retain_graph = True)\n",
    "        optimizerG.step()\n",
    "    print(\"Epoch %d: Discriminator Loss: %0.3f \\t Generator Loss: %.3f\" % (e,np.mean(d_losses),np.mean(g_losses)))\n",
    "        "
   ]
  },
  {
   "cell_type": "code",
   "execution_count": 23,
   "metadata": {},
   "outputs": [],
   "source": [
    "import matplotlib.pyplot as plt\n",
    "%matplotlib inline"
   ]
  },
  {
   "cell_type": "code",
   "execution_count": 73,
   "metadata": {},
   "outputs": [],
   "source": [
    "out = G(1)[0].cpu().detach().numpy()"
   ]
  },
  {
   "cell_type": "code",
   "execution_count": 74,
   "metadata": {},
   "outputs": [],
   "source": [
    "out = np.moveaxis(out,0,2)"
   ]
  },
  {
   "cell_type": "code",
   "execution_count": 75,
   "metadata": {},
   "outputs": [],
   "source": [
    "denormalizer = lambda p: (p+1)*255/2"
   ]
  },
  {
   "cell_type": "code",
   "execution_count": 76,
   "metadata": {},
   "outputs": [],
   "source": [
    "vf = np.vectorize(denormalizer)"
   ]
  },
  {
   "cell_type": "code",
   "execution_count": 77,
   "metadata": {},
   "outputs": [],
   "source": [
    "img = vf(out).astype('uint8')"
   ]
  },
  {
   "cell_type": "code",
   "execution_count": 78,
   "metadata": {},
   "outputs": [],
   "source": [
    "img = np.clip(img,0,255)"
   ]
  },
  {
   "cell_type": "code",
   "execution_count": 79,
   "metadata": {},
   "outputs": [
    {
     "data": {
      "text/plain": [
       "<matplotlib.image.AxesImage at 0x1fba1df2f28>"
      ]
     },
     "execution_count": 79,
     "metadata": {},
     "output_type": "execute_result"
    },
    {
     "data": {
      "image/png": "[encoded data removed]",
      "text/plain": [
       "<matplotlib.figure.Figure at 0x1fb986bc400>"
      ]
     },
     "metadata": {},
     "output_type": "display_data"
    }
   ],
   "source": [
    "plt.imshow(img)"
   ]
  },
  {
   "cell_type": "code",
   "execution_count": null,
   "metadata": {},
   "outputs": [],
   "source": []
  }
 ],
 "metadata": {
  "kernelspec": {
   "display_name": "Python 3",
   "language": "python",
   "name": "python3"
  },
  "language_info": {
   "codemirror_mode": {
    "name": "ipython",
    "version": 3
   },
   "file_extension": ".py",
   "mimetype": "text/x-python",
   "name": "python",
   "nbconvert_exporter": "python",
   "pygments_lexer": "ipython3",
   "version": "3.6.4"
  }
 },
 "nbformat": 4,
 "nbformat_minor": 2
}
