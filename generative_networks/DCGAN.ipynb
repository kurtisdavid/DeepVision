{
 "cells": [
  {
   "cell_type": "code",
   "execution_count": 1,
   "metadata": {},
   "outputs": [],
   "source": [
    "import torch\n",
    "import numpy as np"
   ]
  },
  {
   "cell_type": "markdown",
   "metadata": {},
   "source": [
    "### Load Dataset"
   ]
  },
  {
   "cell_type": "code",
   "execution_count": 2,
   "metadata": {},
   "outputs": [],
   "source": [
    "from torch.utils.data import DataLoader"
   ]
  },
  {
   "cell_type": "code",
   "execution_count": 3,
   "metadata": {},
   "outputs": [],
   "source": [
    "data = np.load('./dataset/data64.npy')"
   ]
  },
  {
   "cell_type": "code",
   "execution_count": 4,
   "metadata": {},
   "outputs": [
    {
     "data": {
      "text/plain": [
       "(3376, 3, 64, 64)"
      ]
     },
     "execution_count": 4,
     "metadata": {},
     "output_type": "execute_result"
    }
   ],
   "source": [
    "data.shape"
   ]
  },
  {
   "cell_type": "code",
   "execution_count": 5,
   "metadata": {},
   "outputs": [],
   "source": [
    "# normalize to [-1, 1] as said in DCGAN paper\n",
    "normalizer = lambda p: (p/255)*(1 - (-1)) - 1\n",
    "vfunc = np.vectorize(normalizer)\n",
    "data_n = vfunc(data)"
   ]
  },
  {
   "cell_type": "code",
   "execution_count": 45,
   "metadata": {},
   "outputs": [],
   "source": [
    "dataset = DataLoader(data_n,batch_size = 64,shuffle=True)"
   ]
  },
  {
   "cell_type": "markdown",
   "metadata": {},
   "source": [
    "## DCGAN"
   ]
  },
  {
   "cell_type": "code",
   "execution_count": 7,
   "metadata": {},
   "outputs": [],
   "source": [
    "import torch.nn as nn"
   ]
  },
  {
   "cell_type": "code",
   "execution_count": 73,
   "metadata": {},
   "outputs": [],
   "source": [
    "# modeled after tensorflow implementation: https://github.com/carpedm20/DCGAN-tensorflow/blob/master/model.py\n",
    "class Discriminator(nn.Module):\n",
    "    \n",
    "    def __init__(self, init_output = 64):\n",
    "        super(Discriminator,self).__init__()\n",
    "        params = {'kernel_size': 5, 'stride': 2, 'padding': 2}\n",
    "        self.init_output = init_output\n",
    "        \n",
    "        self.layer1 = nn.Sequential(\n",
    "            nn.Conv2d(in_channels = 3, out_channels = init_output, **params),\n",
    "            nn.BatchNorm2d(num_features = init_output),\n",
    "            nn.LeakyReLU()\n",
    "        )\n",
    "        self.layer2 = nn.Sequential(\n",
    "            nn.Conv2d(in_channels = init_output, out_channels = init_output*2, **params),\n",
    "            nn.BatchNorm2d(num_features = init_output*2),\n",
    "            nn.LeakyReLU()\n",
    "        )\n",
    "        self.layer3 = nn.Sequential(\n",
    "            nn.Conv2d(in_channels = init_output*2, out_channels = init_output*4, **params),\n",
    "            nn.BatchNorm2d(num_features = init_output*4),\n",
    "            nn.LeakyReLU()\n",
    "        )\n",
    "        self.layer4 = nn.Sequential(\n",
    "            nn.Conv2d(in_channels = init_output*4, out_channels = init_output*8, **params),\n",
    "            nn.BatchNorm2d(num_features = init_output*8),\n",
    "            nn.LeakyReLU()\n",
    "        )\n",
    "        self.output = nn.Sequential(\n",
    "            nn.Linear(init_output*8*16,1),\n",
    "            nn.Sigmoid()\n",
    "        )\n",
    "        self.layers = [self.layer1,self.layer2,self.layer3,self.layer4]\n",
    "        \n",
    "    def forward(self,X):\n",
    "        for layer in self.layers:\n",
    "            X = layer(X)\n",
    "        X = X.view(-1,self.init_output*8*16)\n",
    "        X = self.output(X)\n",
    "        return X"
   ]
  },
  {
   "cell_type": "code",
   "execution_count": 86,
   "metadata": {},
   "outputs": [],
   "source": [
    "class Generator(nn.Module):\n",
    "    \n",
    "    def __init__(self,total_out = 4*4*1024):\n",
    "        super(Generator,self).__init__()\n",
    "        \n",
    "        # don't forget to reshape after this\n",
    "        self.layer1 = nn.Sequential(\n",
    "            nn.Linear(100,out_features = total_out)\n",
    "        )\n",
    "        p = lambda first: {'kernel_size': 5, 'stride': 2-first, 'padding': 2*(1-first), 'output_padding': 1-first}\n",
    "        \n",
    "        self.up1 = nn.Sequential(\n",
    "            nn.ConvTranspose2d(in_channels = 1024,out_channels = 512,**(p(1))),\n",
    "            nn.ReLU()\n",
    "        )\n",
    "        self.up2 = nn.Sequential(\n",
    "            nn.ConvTranspose2d(in_channels = 512,out_channels = 256,**(p(0))),\n",
    "            nn.ReLU()\n",
    "        )\n",
    "        self.up3 = nn.Sequential(\n",
    "            nn.ConvTranspose2d(in_channels = 256,out_channels = 128,**(p(0))),\n",
    "            nn.ReLU()\n",
    "        )\n",
    "        self.up4 = nn.Sequential(\n",
    "            nn.ConvTranspose2d(in_channels = 128,out_channels = 3,**(p(0))),\n",
    "            nn.Tanh()\n",
    "        )\n",
    "        self.upconv = [self.up1,self.up2,self.up3,self.up4]\n",
    "    \n",
    "    def forward(self,bs):\n",
    "        # sample from normal distribution\n",
    "        Z = torch.randn((bs,100)).cuda()\n",
    "        X = self.layer1(Z)\n",
    "        # reshape into 4D-tensor of 1 3d tensor\n",
    "        X = X.view(bs,1024,4,4)\n",
    "        for up in self.upconv:\n",
    "            X = up(X)\n",
    "        return X"
   ]
  },
  {
   "cell_type": "code",
   "execution_count": 83,
   "metadata": {},
   "outputs": [],
   "source": [
    "D = Discriminator().cuda()"
   ]
  },
  {
   "cell_type": "code",
   "execution_count": 88,
   "metadata": {},
   "outputs": [],
   "source": [
    "G = Generator().cuda()"
   ]
  },
  {
   "cell_type": "markdown",
   "metadata": {},
   "source": [
    "## Training"
   ]
  },
  {
   "cell_type": "code",
   "execution_count": 13,
   "metadata": {},
   "outputs": [],
   "source": [
    "import torchvision\n",
    "from torchvision import transforms"
   ]
  },
  {
   "cell_type": "code",
   "execution_count": 42,
   "metadata": {},
   "outputs": [],
   "source": [
    "flip = transforms.Compose([\n",
    "    transforms.ToPILImage(),\n",
    "    transforms.RandomHorizontalFlip()\n",
    "])"
   ]
  },
  {
   "cell_type": "code",
   "execution_count": 120,
   "metadata": {},
   "outputs": [
    {
     "name": "stdout",
     "output_type": "stream",
     "text": [
      "Epoch 0: Discriminator Loss: 0.461 \t Generator Loss: 2.720\n",
      "Epoch 1: Discriminator Loss: 0.751 \t Generator Loss: 2.122\n",
      "Epoch 2: Discriminator Loss: 0.638 \t Generator Loss: 2.322\n",
      "Epoch 3: Discriminator Loss: 0.623 \t Generator Loss: 2.483\n",
      "Epoch 4: Discriminator Loss: 0.599 \t Generator Loss: 2.789\n",
      "Epoch 5: Discriminator Loss: 0.475 \t Generator Loss: 2.723\n",
      "Epoch 6: Discriminator Loss: 0.620 \t Generator Loss: 2.612\n",
      "Epoch 7: Discriminator Loss: 0.567 \t Generator Loss: 2.895\n",
      "Epoch 8: Discriminator Loss: 0.508 \t Generator Loss: 2.885\n",
      "Epoch 9: Discriminator Loss: 0.602 \t Generator Loss: 2.778\n",
      "Epoch 10: Discriminator Loss: 0.616 \t Generator Loss: 2.428\n",
      "Epoch 11: Discriminator Loss: 0.623 \t Generator Loss: 2.397\n",
      "Epoch 12: Discriminator Loss: 0.575 \t Generator Loss: 2.473\n",
      "Epoch 13: Discriminator Loss: 0.651 \t Generator Loss: 2.381\n",
      "Epoch 14: Discriminator Loss: 0.578 \t Generator Loss: 2.359\n",
      "Epoch 15: Discriminator Loss: 0.639 \t Generator Loss: 2.364\n",
      "Epoch 16: Discriminator Loss: 0.635 \t Generator Loss: 2.465\n",
      "Epoch 17: Discriminator Loss: 0.572 \t Generator Loss: 2.311\n",
      "Epoch 18: Discriminator Loss: 0.617 \t Generator Loss: 2.391\n",
      "Epoch 19: Discriminator Loss: 0.574 \t Generator Loss: 2.536\n",
      "Epoch 20: Discriminator Loss: 0.592 \t Generator Loss: 2.454\n",
      "Epoch 21: Discriminator Loss: 0.577 \t Generator Loss: 2.450\n",
      "Epoch 22: Discriminator Loss: 0.524 \t Generator Loss: 2.385\n",
      "Epoch 23: Discriminator Loss: 0.513 \t Generator Loss: 2.512\n",
      "Epoch 24: Discriminator Loss: 0.585 \t Generator Loss: 2.588\n",
      "Epoch 25: Discriminator Loss: 0.510 \t Generator Loss: 2.535\n",
      "Epoch 26: Discriminator Loss: 0.519 \t Generator Loss: 2.501\n",
      "Epoch 27: Discriminator Loss: 0.547 \t Generator Loss: 2.507\n",
      "Epoch 28: Discriminator Loss: 0.513 \t Generator Loss: 2.513\n",
      "Epoch 29: Discriminator Loss: 0.515 \t Generator Loss: 2.527\n",
      "Epoch 30: Discriminator Loss: 0.505 \t Generator Loss: 2.514\n"
     ]
    },
    {
     "ename": "KeyboardInterrupt",
     "evalue": "",
     "output_type": "error",
     "traceback": [
      "\u001b[1;31m---------------------------------------------------------------------------\u001b[0m",
      "\u001b[1;31mKeyboardInterrupt\u001b[0m                         Traceback (most recent call last)",
      "\u001b[1;32m<ipython-input-120-c6cb1c684100>\u001b[0m in \u001b[0;36m<module>\u001b[1;34m()\u001b[0m\n\u001b[0;32m     30\u001b[0m         \u001b[0mgen_loss\u001b[0m \u001b[1;33m=\u001b[0m \u001b[0mloss\u001b[0m\u001b[1;33m(\u001b[0m\u001b[0mgen_out\u001b[0m\u001b[1;33m,\u001b[0m\u001b[0mtorch\u001b[0m\u001b[1;33m.\u001b[0m\u001b[0mones\u001b[0m\u001b[1;33m(\u001b[0m\u001b[1;33m(\u001b[0m\u001b[1;36m64\u001b[0m\u001b[1;33m,\u001b[0m\u001b[1;36m1\u001b[0m\u001b[1;33m)\u001b[0m\u001b[1;33m)\u001b[0m\u001b[1;33m.\u001b[0m\u001b[0mcuda\u001b[0m\u001b[1;33m(\u001b[0m\u001b[1;33m)\u001b[0m\u001b[1;33m)\u001b[0m\u001b[1;33m\u001b[0m\u001b[0m\n\u001b[0;32m     31\u001b[0m         \u001b[0mg_losses\u001b[0m\u001b[1;33m.\u001b[0m\u001b[0mappend\u001b[0m\u001b[1;33m(\u001b[0m\u001b[0mgen_loss\u001b[0m\u001b[1;33m.\u001b[0m\u001b[0mdata\u001b[0m\u001b[1;33m)\u001b[0m\u001b[1;33m\u001b[0m\u001b[0m\n\u001b[1;32m---> 32\u001b[1;33m         \u001b[0mgen_loss\u001b[0m\u001b[1;33m.\u001b[0m\u001b[0mbackward\u001b[0m\u001b[1;33m(\u001b[0m\u001b[0mretain_graph\u001b[0m \u001b[1;33m=\u001b[0m \u001b[1;32mTrue\u001b[0m\u001b[1;33m)\u001b[0m\u001b[1;33m\u001b[0m\u001b[0m\n\u001b[0m\u001b[0;32m     33\u001b[0m         \u001b[0moptimizerG\u001b[0m\u001b[1;33m.\u001b[0m\u001b[0mstep\u001b[0m\u001b[1;33m(\u001b[0m\u001b[1;33m)\u001b[0m\u001b[1;33m\u001b[0m\u001b[0m\n\u001b[0;32m     34\u001b[0m     \u001b[0mprint\u001b[0m\u001b[1;33m(\u001b[0m\u001b[1;34m\"Epoch %d: Discriminator Loss: %0.3f \\t Generator Loss: %.3f\"\u001b[0m \u001b[1;33m%\u001b[0m \u001b[1;33m(\u001b[0m\u001b[0me\u001b[0m\u001b[1;33m,\u001b[0m\u001b[0mnp\u001b[0m\u001b[1;33m.\u001b[0m\u001b[0mmean\u001b[0m\u001b[1;33m(\u001b[0m\u001b[0md_losses\u001b[0m\u001b[1;33m)\u001b[0m\u001b[1;33m,\u001b[0m\u001b[0mnp\u001b[0m\u001b[1;33m.\u001b[0m\u001b[0mmean\u001b[0m\u001b[1;33m(\u001b[0m\u001b[0mg_losses\u001b[0m\u001b[1;33m)\u001b[0m\u001b[1;33m)\u001b[0m\u001b[1;33m)\u001b[0m\u001b[1;33m\u001b[0m\u001b[0m\n",
      "\u001b[1;32m~\\Anaconda3\\lib\\site-packages\\torch\\tensor.py\u001b[0m in \u001b[0;36mbackward\u001b[1;34m(self, gradient, retain_graph, create_graph)\u001b[0m\n\u001b[0;32m     91\u001b[0m                 \u001b[0mproducts\u001b[0m\u001b[1;33m.\u001b[0m \u001b[0mDefaults\u001b[0m \u001b[0mto\u001b[0m\u001b[0;31m \u001b[0m\u001b[0;31m`\u001b[0m\u001b[0;31m`\u001b[0m\u001b[1;32mFalse\u001b[0m\u001b[0;31m`\u001b[0m\u001b[0;31m`\u001b[0m\u001b[1;33m.\u001b[0m\u001b[1;33m\u001b[0m\u001b[0m\n\u001b[0;32m     92\u001b[0m         \"\"\"\n\u001b[1;32m---> 93\u001b[1;33m         \u001b[0mtorch\u001b[0m\u001b[1;33m.\u001b[0m\u001b[0mautograd\u001b[0m\u001b[1;33m.\u001b[0m\u001b[0mbackward\u001b[0m\u001b[1;33m(\u001b[0m\u001b[0mself\u001b[0m\u001b[1;33m,\u001b[0m \u001b[0mgradient\u001b[0m\u001b[1;33m,\u001b[0m \u001b[0mretain_graph\u001b[0m\u001b[1;33m,\u001b[0m \u001b[0mcreate_graph\u001b[0m\u001b[1;33m)\u001b[0m\u001b[1;33m\u001b[0m\u001b[0m\n\u001b[0m\u001b[0;32m     94\u001b[0m \u001b[1;33m\u001b[0m\u001b[0m\n\u001b[0;32m     95\u001b[0m     \u001b[1;32mdef\u001b[0m \u001b[0mregister_hook\u001b[0m\u001b[1;33m(\u001b[0m\u001b[0mself\u001b[0m\u001b[1;33m,\u001b[0m \u001b[0mhook\u001b[0m\u001b[1;33m)\u001b[0m\u001b[1;33m:\u001b[0m\u001b[1;33m\u001b[0m\u001b[0m\n",
      "\u001b[1;32m~\\Anaconda3\\lib\\site-packages\\torch\\autograd\\__init__.py\u001b[0m in \u001b[0;36mbackward\u001b[1;34m(tensors, grad_tensors, retain_graph, create_graph, grad_variables)\u001b[0m\n\u001b[0;32m     87\u001b[0m     Variable._execution_engine.run_backward(\n\u001b[0;32m     88\u001b[0m         \u001b[0mtensors\u001b[0m\u001b[1;33m,\u001b[0m \u001b[0mgrad_tensors\u001b[0m\u001b[1;33m,\u001b[0m \u001b[0mretain_graph\u001b[0m\u001b[1;33m,\u001b[0m \u001b[0mcreate_graph\u001b[0m\u001b[1;33m,\u001b[0m\u001b[1;33m\u001b[0m\u001b[0m\n\u001b[1;32m---> 89\u001b[1;33m         allow_unreachable=True)  # allow_unreachable flag\n\u001b[0m\u001b[0;32m     90\u001b[0m \u001b[1;33m\u001b[0m\u001b[0m\n\u001b[0;32m     91\u001b[0m \u001b[1;33m\u001b[0m\u001b[0m\n",
      "\u001b[1;31mKeyboardInterrupt\u001b[0m: "
     ]
    }
   ],
   "source": [
    "optimizerD = torch.optim.Adam(D.parameters(),lr = 0.0002, betas = (0.5,0.999))\n",
    "optimizerG = torch.optim.Adam(G.parameters(),lr = 0.0002, betas = (0.5,0.999))\n",
    "EPOCHS = 100\n",
    "loss = nn.BCELoss()\n",
    "for e in range(EPOCHS):\n",
    "    d_losses = []\n",
    "    g_losses = []\n",
    "    for batch in dataset:\n",
    "        optimizerD.zero_grad()\n",
    "        optimizerG.zero_grad()\n",
    "        # batch are true inputs!\n",
    "        \n",
    "        # Discriminator\n",
    "        true_out = D(batch.float().cuda())\n",
    "        true_loss = loss(true_out,torch.ones((batch.shape[0],1)).cuda())\n",
    "        true_loss.backward(retain_graph = True)\n",
    "        \n",
    "        # Determine generated is false\n",
    "        gen_out = D(G(64))\n",
    "        fake_loss = loss(gen_out,torch.zeros((64,1)).cuda())\n",
    "        fake_loss.backward(retain_graph = True)\n",
    "        \n",
    "        total_loss_D = true_loss + fake_loss\n",
    "        d_losses.append(total_loss_D.data)\n",
    "        optimizerD.step()\n",
    "        \n",
    "        ###\n",
    "        # Generator Loss\n",
    "        gen_loss = loss(gen_out,torch.ones((64,1)).cuda())\n",
    "        g_losses.append(gen_loss.data)\n",
    "        gen_loss.backward(retain_graph = True)\n",
    "        optimizerG.step()\n",
    "    print(\"Epoch %d: Discriminator Loss: %0.3f \\t Generator Loss: %.3f\" % (e,np.mean(d_losses),np.mean(g_losses)))\n",
    "        "
   ]
  },
  {
   "cell_type": "code",
   "execution_count": 135,
   "metadata": {},
   "outputs": [],
   "source": [
    "import matplotlib.pyplot as plt\n",
    "%matplotlib inline"
   ]
  },
  {
   "cell_type": "code",
   "execution_count": 256,
   "metadata": {},
   "outputs": [],
   "source": [
    "out = G(1)[0].cpu().detach().numpy()"
   ]
  },
  {
   "cell_type": "code",
   "execution_count": 257,
   "metadata": {},
   "outputs": [],
   "source": [
    "out = np.moveaxis(out,0,2)"
   ]
  },
  {
   "cell_type": "code",
   "execution_count": 258,
   "metadata": {},
   "outputs": [],
   "source": [
    "denormalizer = lambda p: (p+1)*255/2"
   ]
  },
  {
   "cell_type": "code",
   "execution_count": 259,
   "metadata": {},
   "outputs": [],
   "source": [
    "vf = np.vectorize(denormalizer)"
   ]
  },
  {
   "cell_type": "code",
   "execution_count": 260,
   "metadata": {},
   "outputs": [],
   "source": [
    "img = vf(out).astype('uint8')"
   ]
  },
  {
   "cell_type": "code",
   "execution_count": 261,
   "metadata": {},
   "outputs": [],
   "source": [
    "img = np.clip(img,0,255)"
   ]
  },
  {
   "cell_type": "code",
   "execution_count": 262,
   "metadata": {},
   "outputs": [
    {
     "data": {
      "text/plain": [
       "<matplotlib.image.AxesImage at 0x1b0e6678128>"
      ]
     },
     "execution_count": 262,
     "metadata": {},
     "output_type": "execute_result"
    },
    {
     "data": {
      "image/png": "[encoded data removed]",
      "text/plain": [
       "<matplotlib.figure.Figure at 0x1b0e499cb00>"
      ]
     },
     "metadata": {},
     "output_type": "display_data"
    }
   ],
   "source": [
    "plt.imshow(img)"
   ]
  },
  {
   "cell_type": "code",
   "execution_count": null,
   "metadata": {},
   "outputs": [],
   "source": []
  }
 ],
 "metadata": {
  "kernelspec": {
   "display_name": "Python 3",
   "language": "python",
   "name": "python3"
  },
  "language_info": {
   "codemirror_mode": {
    "name": "ipython",
    "version": 3
   },
   "file_extension": ".py",
   "mimetype": "text/x-python",
   "name": "python",
   "nbconvert_exporter": "python",
   "pygments_lexer": "ipython3",
   "version": "3.6.4"
  }
 },
 "nbformat": 4,
 "nbformat_minor": 2
}
