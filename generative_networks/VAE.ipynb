{
 "cells": [
  {
   "cell_type": "code",
   "execution_count": 1,
   "metadata": {},
   "outputs": [],
   "source": [
    "import torch\n",
    "import numpy as np"
   ]
  },
  {
   "cell_type": "markdown",
   "metadata": {},
   "source": [
    "### Load Dataset"
   ]
  },
  {
   "cell_type": "code",
   "execution_count": 2,
   "metadata": {},
   "outputs": [],
   "source": [
    "from torch.utils.data import DataLoader"
   ]
  },
  {
   "cell_type": "code",
   "execution_count": 3,
   "metadata": {},
   "outputs": [],
   "source": [
    "data = np.load('./dataset/data64.npy')"
   ]
  },
  {
   "cell_type": "code",
   "execution_count": 4,
   "metadata": {},
   "outputs": [
    {
     "data": {
      "text/plain": [
       "(3376, 3, 64, 64)"
      ]
     },
     "execution_count": 4,
     "metadata": {},
     "output_type": "execute_result"
    }
   ],
   "source": [
    "data.shape"
   ]
  },
  {
   "cell_type": "code",
   "execution_count": 5,
   "metadata": {},
   "outputs": [],
   "source": [
    "# normalize to [0, 1]\n",
    "normalizer = lambda p: (p/255)\n",
    "vfunc = np.vectorize(normalizer)\n",
    "data_n = vfunc(data)"
   ]
  },
  {
   "cell_type": "code",
   "execution_count": 6,
   "metadata": {},
   "outputs": [],
   "source": [
    "dataset = DataLoader(data_n,batch_size = 32,shuffle=True)"
   ]
  },
  {
   "cell_type": "markdown",
   "metadata": {},
   "source": [
    "## VAE"
   ]
  },
  {
   "cell_type": "code",
   "execution_count": 7,
   "metadata": {},
   "outputs": [],
   "source": [
    "import torch.nn as nn"
   ]
  },
  {
   "cell_type": "code",
   "execution_count": 11,
   "metadata": {},
   "outputs": [],
   "source": [
    "class VAE(nn.Module):\n",
    "    \n",
    "    def __init__(self, latent_size, output_size, n_channels):\n",
    "        super(VAE,self).__init__()\n",
    "        params = {'kernel_size': 5, 'stride': 2, 'padding': 2}\n",
    "        self.init_output = 3\n",
    "        self.latent_size = latent_size\n",
    "        self.output_size = output_size\n",
    "        self.n_channels = n_channels\n",
    "        self._build_encoder(params)\n",
    "        self._build_decoder()\n",
    "        self.reconstruction = nn.Sigmoid()\n",
    "        \n",
    "        \n",
    "    \n",
    "    def _build_encoder(self,params):\n",
    "        self.elayer1 = nn.Sequential(\n",
    "            nn.Conv2d(in_channels = 3, out_channels = self.init_output, **params),\n",
    "            nn.BatchNorm2d(num_features = self.init_output),\n",
    "            nn.LeakyReLU(0.2)\n",
    "        )\n",
    "        self.elayer2 = nn.Sequential(\n",
    "            nn.Conv2d(in_channels = self.init_output, out_channels = self.init_output*2, **params),\n",
    "            nn.BatchNorm2d(num_features = self.init_output*2),\n",
    "            nn.LeakyReLU(0.2)\n",
    "        )\n",
    "        self.elayer3 = nn.Sequential(\n",
    "            nn.Conv2d(in_channels = self.init_output*2, out_channels = self.init_output*4, **params),\n",
    "            nn.BatchNorm2d(num_features = self.init_output*4),\n",
    "            nn.LeakyReLU(0.2)\n",
    "        )\n",
    "        self.elayer4 = nn.Sequential(\n",
    "            nn.Conv2d(in_channels = self.init_output*4, out_channels = self.init_output*8, **params),\n",
    "            nn.BatchNorm2d(num_features = self.init_output*8),\n",
    "            nn.LeakyReLU(0.2)\n",
    "        )\n",
    "        self.emean_output = nn.Sequential(\n",
    "            nn.Linear(self.init_output*8*16,self.latent_size)\n",
    "        )\n",
    "        self.ecovariance_output = nn.Sequential(\n",
    "            nn.Linear(self.init_output*8*16,self.latent_size),\n",
    "            # force outputs to be positive\n",
    "            nn.Softplus()\n",
    "        )\n",
    "        self.encoder_layers = [self.elayer1,self.elayer2,self.elayer3,self.elayer4]\n",
    "    \n",
    "    def _build_decoder(self):\n",
    "        self.dlayer1 = nn.Sequential(\n",
    "            nn.Linear(self.latent_size,self.latent_size*2),\n",
    "            nn.ReLU()\n",
    "        )\n",
    "        self.dlayer2 = nn.Sequential(\n",
    "            nn.Linear(self.latent_size*2,self.latent_size*4),\n",
    "            nn.ReLU()\n",
    "        )\n",
    "        self.dlayer3 = nn.Sequential(\n",
    "             nn.Linear(self.latent_size*4,self.output_size**2 * self.n_channels),\n",
    "             nn.Sigmoid()\n",
    "        )\n",
    "        self.decoder_layers = [self.dlayer1,self.dlayer2,self.dlayer3]\n",
    "        \n",
    "    def _encode(self, X):\n",
    "        for layer in self.encoder_layers:\n",
    "            X = layer(X)\n",
    "        X = X.view(-1,self.init_output*8*16)\n",
    "        mu = self.emean_output(X)\n",
    "        log_sigma = self.ecovariance_output(X)\n",
    "        return mu,log_sigma\n",
    "\n",
    "    def _decode(self, Z):\n",
    "        for layer in self.decoder_layers:\n",
    "            Z = layer(Z)\n",
    "        return Z\n",
    "        \n",
    "    def sample(self, bs):\n",
    "        Z = self._decode(torch.randn(bs,self.latent_size).cuda())\n",
    "        return Z.view(-1,self.n_channels,self.output_size,self.output_size)\n",
    "        \n",
    "    def forward(self,X):\n",
    "        mu,log_sigma = self._encode(X)\n",
    "        # reparaterization trick\n",
    "        Z = mu + torch.exp(log_sigma)*torch.randn(log_sigma.shape).cuda()\n",
    "        Z = self._decode(Z)\n",
    "        \n",
    "        return mu,log_sigma,Z.view(-1,self.n_channels,self.output_size,self.output_size)"
   ]
  },
  {
   "cell_type": "code",
   "execution_count": 56,
   "metadata": {},
   "outputs": [],
   "source": [
    "vae = VAE(100,64,3).cuda()"
   ]
  },
  {
   "cell_type": "code",
   "execution_count": 57,
   "metadata": {},
   "outputs": [
    {
     "name": "stdout",
     "output_type": "stream",
     "text": [
      "Epoch 0: Loss: 8025.83056640625 KL: 46.82683563232422\n",
      "Epoch 1: Loss: 7601.205078125 KL: 28.988454818725586\n",
      "Epoch 2: Loss: 7497.9482421875 KL: 28.779876708984375\n",
      "Epoch 3: Loss: 7443.75634765625 KL: 28.910011291503906\n",
      "Epoch 4: Loss: 7427.87255859375 KL: 28.35698127746582\n",
      "Epoch 5: Loss: 7411.8642578125 KL: 28.654438018798828\n",
      "Epoch 6: Loss: 7397.38916015625 KL: 29.737119674682617\n",
      "Epoch 7: Loss: 7376.45703125 KL: 30.993526458740234\n",
      "Epoch 8: Loss: 7351.17431640625 KL: 33.20664596557617\n",
      "Epoch 9: Loss: 7327.29833984375 KL: 34.84756088256836\n",
      "Epoch 10: Loss: 7309.31640625 KL: 36.50064468383789\n",
      "Epoch 11: Loss: 7294.3076171875 KL: 38.082733154296875\n",
      "Epoch 12: Loss: 7274.5625 KL: 40.21478271484375\n",
      "Epoch 13: Loss: 7258.86328125 KL: 41.900760650634766\n",
      "Epoch 14: Loss: 7236.87451171875 KL: 44.27714157104492\n",
      "Epoch 15: Loss: 7205.99609375 KL: 46.4713249206543\n",
      "Epoch 16: Loss: 7188.88623046875 KL: 49.12688446044922\n",
      "Epoch 17: Loss: 7176.71484375 KL: 51.33318328857422\n",
      "Epoch 18: Loss: 7172.3466796875 KL: 52.64377975463867\n",
      "Epoch 19: Loss: 7169.783203125 KL: 53.09807205200195\n",
      "Epoch 20: Loss: 7163.7255859375 KL: 54.49114227294922\n",
      "Epoch 21: Loss: 7160.1044921875 KL: 55.10433578491211\n",
      "Epoch 22: Loss: 7154.14208984375 KL: 55.78944778442383\n",
      "Epoch 23: Loss: 7149.46044921875 KL: 56.498619079589844\n",
      "Epoch 24: Loss: 7141.44677734375 KL: 56.915504455566406\n",
      "Epoch 25: Loss: 7139.05908203125 KL: 58.064208984375\n",
      "Epoch 26: Loss: 7128.09765625 KL: 58.57109832763672\n",
      "Epoch 27: Loss: 7125.02587890625 KL: 59.28403854370117\n",
      "Epoch 28: Loss: 7124.86279296875 KL: 60.0496940612793\n",
      "Epoch 29: Loss: 7121.22998046875 KL: 60.74968338012695\n",
      "Epoch 30: Loss: 7113.3203125 KL: 61.28303909301758\n",
      "Epoch 31: Loss: 7106.84765625 KL: 61.77070236206055\n",
      "Epoch 32: Loss: 7106.61279296875 KL: 62.91851806640625\n",
      "Epoch 33: Loss: 7099.9052734375 KL: 63.63750457763672\n",
      "Epoch 34: Loss: 7093.56494140625 KL: 64.64942169189453\n",
      "Epoch 35: Loss: 7091.88037109375 KL: 64.992431640625\n",
      "Epoch 36: Loss: 7087.5537109375 KL: 65.77054595947266\n",
      "Epoch 37: Loss: 7084.48828125 KL: 65.90194702148438\n",
      "Epoch 38: Loss: 7077.04931640625 KL: 66.58466339111328\n",
      "Epoch 39: Loss: 7076.89697265625 KL: 67.18500518798828\n",
      "Epoch 40: Loss: 7076.02099609375 KL: 67.4790267944336\n",
      "Epoch 41: Loss: 7072.5830078125 KL: 68.42139434814453\n",
      "Epoch 42: Loss: 7072.40966796875 KL: 68.91804504394531\n",
      "Epoch 43: Loss: 7067.751953125 KL: 68.9200210571289\n",
      "Epoch 44: Loss: 7068.30126953125 KL: 69.79654693603516\n",
      "Epoch 45: Loss: 7067.2080078125 KL: 70.37982177734375\n",
      "Epoch 46: Loss: 7061.96630859375 KL: 70.78292083740234\n",
      "Epoch 47: Loss: 7061.80029296875 KL: 71.34339904785156\n",
      "Epoch 48: Loss: 7054.73193359375 KL: 71.74327087402344\n",
      "Epoch 49: Loss: 7056.31591796875 KL: 71.88536834716797\n",
      "Epoch 50: Loss: 7050.01171875 KL: 72.53868103027344\n",
      "Epoch 51: Loss: 7048.9365234375 KL: 72.87028503417969\n",
      "Epoch 52: Loss: 7048.48681640625 KL: 73.14886474609375\n",
      "Epoch 53: Loss: 7049.904296875 KL: 73.49758911132812\n",
      "Epoch 54: Loss: 7041.03173828125 KL: 74.22686004638672\n",
      "Epoch 55: Loss: 7046.142578125 KL: 74.13218688964844\n",
      "Epoch 56: Loss: 7038.3203125 KL: 74.57789611816406\n",
      "Epoch 57: Loss: 7037.90380859375 KL: 75.04269409179688\n",
      "Epoch 58: Loss: 7036.9990234375 KL: 75.40855407714844\n",
      "Epoch 59: Loss: 7036.4658203125 KL: 75.50187683105469\n",
      "Epoch 60: Loss: 7035.380859375 KL: 76.38105773925781\n",
      "Epoch 61: Loss: 7031.35009765625 KL: 76.99049377441406\n",
      "Epoch 62: Loss: 7029.2333984375 KL: 76.75888061523438\n",
      "Epoch 63: Loss: 7028.654296875 KL: 77.27578735351562\n",
      "Epoch 64: Loss: 7029.38330078125 KL: 77.40367889404297\n",
      "Epoch 65: Loss: 7026.36376953125 KL: 78.01575469970703\n",
      "Epoch 66: Loss: 7024.5625 KL: 78.51065826416016\n",
      "Epoch 67: Loss: 7019.4892578125 KL: 78.92324829101562\n",
      "Epoch 68: Loss: 7018.41845703125 KL: 79.06028747558594\n",
      "Epoch 69: Loss: 7015.97216796875 KL: 79.15473937988281\n",
      "Epoch 70: Loss: 7014.04736328125 KL: 79.61873626708984\n",
      "Epoch 71: Loss: 7014.69677734375 KL: 79.47909545898438\n",
      "Epoch 72: Loss: 7014.27880859375 KL: 80.13748931884766\n",
      "Epoch 73: Loss: 7008.67236328125 KL: 80.55516815185547\n",
      "Epoch 74: Loss: 7011.2744140625 KL: 80.55740356445312\n",
      "Epoch 75: Loss: 7008.810546875 KL: 81.17747497558594\n",
      "Epoch 76: Loss: 7005.943359375 KL: 81.59100341796875\n",
      "Epoch 77: Loss: 7005.12548828125 KL: 81.57516479492188\n",
      "Epoch 78: Loss: 7000.40576171875 KL: 81.92880249023438\n",
      "Epoch 79: Loss: 6998.6708984375 KL: 82.66653442382812\n",
      "Epoch 80: Loss: 7000.5849609375 KL: 82.05687713623047\n",
      "Epoch 81: Loss: 6996.08154296875 KL: 82.62969970703125\n",
      "Epoch 82: Loss: 6995.74658203125 KL: 83.01077270507812\n",
      "Epoch 83: Loss: 6995.5859375 KL: 83.31688690185547\n",
      "Epoch 84: Loss: 6993.13330078125 KL: 83.62969970703125\n",
      "Epoch 85: Loss: 6993.04345703125 KL: 84.037109375\n",
      "Epoch 86: Loss: 6987.16650390625 KL: 84.22987365722656\n",
      "Epoch 87: Loss: 6984.87451171875 KL: 84.17212677001953\n",
      "Epoch 88: Loss: 6989.908203125 KL: 84.4153823852539\n",
      "Epoch 89: Loss: 6989.123046875 KL: 84.91632843017578\n",
      "Epoch 90: Loss: 6985.599609375 KL: 85.1671371459961\n",
      "Epoch 91: Loss: 6984.0947265625 KL: 85.75178527832031\n",
      "Epoch 92: Loss: 6982.00048828125 KL: 86.05599212646484\n",
      "Epoch 93: Loss: 6980.57958984375 KL: 86.24510192871094\n",
      "Epoch 94: Loss: 6980.14453125 KL: 86.58038330078125\n",
      "Epoch 95: Loss: 6976.2705078125 KL: 87.04440307617188\n",
      "Epoch 96: Loss: 6974.19091796875 KL: 87.2155532836914\n",
      "Epoch 97: Loss: 6973.1396484375 KL: 87.50086975097656\n",
      "Epoch 98: Loss: 6970.78662109375 KL: 87.51260375976562\n",
      "Epoch 99: Loss: 6973.9892578125 KL: 88.19335174560547\n"
     ]
    }
   ],
   "source": [
    "optimizer = torch.optim.Adam(vae.parameters(),lr = 0.0002, betas = (0.5,0.999))\n",
    "n_epochs = 100\n",
    "\n",
    "for e in range(n_epochs):\n",
    "    losses = []\n",
    "    KL_losses = []\n",
    "    for i,batch in enumerate(dataset):\n",
    "        vae.zero_grad()\n",
    "        batch_ = batch.float().cuda()\n",
    "        mu,log_sigma,out = vae(batch_)\n",
    "        \n",
    "\n",
    "        # losses\n",
    "        KL = -1/2 * torch.sum(1 + 2*log_sigma - torch.pow(mu,2) - torch.exp(2*log_sigma) ,1)\n",
    "        KL_losses.append(torch.mean(KL.data))\n",
    "        \n",
    "        bce = -torch.sum(torch.sum(torch.sum( batch_ * torch.log(1e-10 + out) + (1-batch_) * torch.log(1e-10 + (1-out)), 1),1),1)\n",
    "        \n",
    "        loss = torch.mean(bce) + torch.mean(KL)\n",
    "        losses.append(loss.data)\n",
    "\n",
    "        loss.backward()\n",
    "        optimizer.step()\n",
    "    print('Epoch {e}: Loss: {loss} KL: {lol}'.format(e=e, loss = np.mean(losses), lol = np.mean(KL_losses)))\n",
    "    if e%5 == 0:\n",
    "        ex = vae.sample(12).cpu().detach().numpy()\n",
    "        out = np.moveaxis(ex,1,3)\n",
    "    #     imgs = vf(out)\n",
    "    #     imgs = np.clip(img,0,255).astype('uint8')\n",
    "        np.save('./results/vae_anime_epoch_' + str(e),out)\n",
    "    "
   ]
  },
  {
   "cell_type": "code",
   "execution_count": 49,
   "metadata": {},
   "outputs": [],
   "source": [
    "import matplotlib.pyplot as plt\n",
    "%matplotlib inline"
   ]
  },
  {
   "cell_type": "code",
   "execution_count": 58,
   "metadata": {},
   "outputs": [],
   "source": [
    "out_ = out[8].cpu().data.numpy()\n",
    "out_ = np.moveaxis(out_,0,2)"
   ]
  },
  {
   "cell_type": "code",
   "execution_count": 51,
   "metadata": {},
   "outputs": [],
   "source": [
    "denormalizer = lambda p: p*255"
   ]
  },
  {
   "cell_type": "code",
   "execution_count": 52,
   "metadata": {},
   "outputs": [],
   "source": [
    "vf = np.vectorize(denormalizer)"
   ]
  },
  {
   "cell_type": "code",
   "execution_count": 59,
   "metadata": {},
   "outputs": [],
   "source": [
    "img = vf(out_)"
   ]
  },
  {
   "cell_type": "code",
   "execution_count": 60,
   "metadata": {},
   "outputs": [],
   "source": [
    "img = np.clip(img,0,255).astype('uint8')"
   ]
  },
  {
   "cell_type": "code",
   "execution_count": 61,
   "metadata": {},
   "outputs": [
    {
     "data": {
      "text/plain": [
       "<matplotlib.image.AxesImage at 0x1af801a9c18>"
      ]
     },
     "execution_count": 61,
     "metadata": {},
     "output_type": "execute_result"
    },
    {
     "data": {
      "image/png": "[encoded data removed]",
      "text/plain": [
       "<matplotlib.figure.Figure at 0x1af8013c198>"
      ]
     },
     "metadata": {},
     "output_type": "display_data"
    }
   ],
   "source": [
    "plt.imshow(img)"
   ]
  },
  {
   "cell_type": "code",
   "execution_count": 61,
   "metadata": {},
   "outputs": [
    {
     "data": {
      "text/plain": [
       "array([[[232, 236, 169],\n",
       "        [192, 221, 186],\n",
       "        [184, 162, 227],\n",
       "        ...,\n",
       "        [209, 149, 202],\n",
       "        [125,  77, 116],\n",
       "        [144,  54, 199]],\n",
       "\n",
       "       [[237, 210, 179],\n",
       "        [206, 248, 249],\n",
       "        [239, 238, 239],\n",
       "        ...,\n",
       "        [189,  69, 198],\n",
       "        [205,  54,  83],\n",
       "        [211, 139, 216]],\n",
       "\n",
       "       [[109, 246, 149],\n",
       "        [152, 212, 228],\n",
       "        [213, 231, 245],\n",
       "        ...,\n",
       "        [168,  61, 154],\n",
       "        [ 67,  94,  93],\n",
       "        [121, 156, 184]],\n",
       "\n",
       "       ...,\n",
       "\n",
       "       [[ 51, 182,  72],\n",
       "        [139, 154,  37],\n",
       "        [ 75,  57,  55],\n",
       "        ...,\n",
       "        [144,  54, 182],\n",
       "        [ 95,  47,  62],\n",
       "        [ 48,  86,  39]],\n",
       "\n",
       "       [[168, 102,  44],\n",
       "        [132,  41,  35],\n",
       "        [ 61,  33,  39],\n",
       "        ...,\n",
       "        [132,  47,  88],\n",
       "        [ 83, 175, 205],\n",
       "        [ 82,  15, 130]],\n",
       "\n",
       "       [[130, 162,  30],\n",
       "        [170,  34,  25],\n",
       "        [ 30, 128,  24],\n",
       "        ...,\n",
       "        [ 80,  49, 107],\n",
       "        [187,  37, 106],\n",
       "        [122,  29,  68]]], dtype=uint8)"
      ]
     },
     "execution_count": 61,
     "metadata": {},
     "output_type": "execute_result"
    }
   ],
   "source": [
    "img"
   ]
  },
  {
   "cell_type": "code",
   "execution_count": null,
   "metadata": {},
   "outputs": [],
   "source": []
  }
 ],
 "metadata": {
  "kernelspec": {
   "display_name": "Python 3",
   "language": "python",
   "name": "python3"
  },
  "language_info": {
   "codemirror_mode": {
    "name": "ipython",
    "version": 3
   },
   "file_extension": ".py",
   "mimetype": "text/x-python",
   "name": "python",
   "nbconvert_exporter": "python",
   "pygments_lexer": "ipython3",
   "version": "3.6.4"
  }
 },
 "nbformat": 4,
 "nbformat_minor": 2
}
