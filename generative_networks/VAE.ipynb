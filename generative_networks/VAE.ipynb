{
 "cells": [
  {
   "cell_type": "code",
   "execution_count": 1,
   "metadata": {},
   "outputs": [],
   "source": [
    "import torch\n",
    "import numpy as np"
   ]
  },
  {
   "cell_type": "markdown",
   "metadata": {},
   "source": [
    "### Load Dataset"
   ]
  },
  {
   "cell_type": "code",
   "execution_count": 2,
   "metadata": {},
   "outputs": [],
   "source": [
    "from torch.utils.data import DataLoader"
   ]
  },
  {
   "cell_type": "code",
   "execution_count": 3,
   "metadata": {},
   "outputs": [],
   "source": [
    "data = np.load('./dataset/data64.npy')"
   ]
  },
  {
   "cell_type": "code",
   "execution_count": 4,
   "metadata": {},
   "outputs": [
    {
     "data": {
      "text/plain": [
       "(3376, 3, 64, 64)"
      ]
     },
     "execution_count": 4,
     "metadata": {},
     "output_type": "execute_result"
    }
   ],
   "source": [
    "data.shape"
   ]
  },
  {
   "cell_type": "code",
   "execution_count": 5,
   "metadata": {},
   "outputs": [],
   "source": [
    "# normalize to [0, 1]\n",
    "normalizer = lambda p: (p/255)\n",
    "vfunc = np.vectorize(normalizer)\n",
    "data_n = vfunc(data)"
   ]
  },
  {
   "cell_type": "code",
   "execution_count": 6,
   "metadata": {},
   "outputs": [],
   "source": [
    "dataset = DataLoader(data_n,batch_size = 32,shuffle=True)"
   ]
  },
  {
   "cell_type": "markdown",
   "metadata": {},
   "source": [
    "## VAE"
   ]
  },
  {
   "cell_type": "code",
   "execution_count": 7,
   "metadata": {},
   "outputs": [],
   "source": [
    "import torch.nn as nn"
   ]
  },
  {
   "cell_type": "code",
   "execution_count": 11,
   "metadata": {},
   "outputs": [],
   "source": [
    "class VAE(nn.Module):\n",
    "    \n",
    "    def __init__(self, latent_size, output_size, n_channels):\n",
    "        super(VAE,self).__init__()\n",
    "        params = {'kernel_size': 5, 'stride': 2, 'padding': 2}\n",
    "        self.init_output = 3\n",
    "        self.latent_size = latent_size\n",
    "        self.output_size = output_size\n",
    "        self.n_channels = n_channels\n",
    "        self._build_encoder(params)\n",
    "        self._build_decoder()\n",
    "        self.reconstruction = nn.Sigmoid()\n",
    "        \n",
    "        \n",
    "    \n",
    "    def _build_encoder(self,params):\n",
    "        self.elayer1 = nn.Sequential(\n",
    "            nn.Conv2d(in_channels = 3, out_channels = self.init_output, **params),\n",
    "            nn.BatchNorm2d(num_features = self.init_output),\n",
    "            nn.LeakyReLU(0.2)\n",
    "        )\n",
    "        self.elayer2 = nn.Sequential(\n",
    "            nn.Conv2d(in_channels = self.init_output, out_channels = self.init_output*2, **params),\n",
    "            nn.BatchNorm2d(num_features = self.init_output*2),\n",
    "            nn.LeakyReLU(0.2)\n",
    "        )\n",
    "        self.elayer3 = nn.Sequential(\n",
    "            nn.Conv2d(in_channels = self.init_output*2, out_channels = self.init_output*4, **params),\n",
    "            nn.BatchNorm2d(num_features = self.init_output*4),\n",
    "            nn.LeakyReLU(0.2)\n",
    "        )\n",
    "        self.elayer4 = nn.Sequential(\n",
    "            nn.Conv2d(in_channels = self.init_output*4, out_channels = self.init_output*8, **params),\n",
    "            nn.BatchNorm2d(num_features = self.init_output*8),\n",
    "            nn.LeakyReLU(0.2)\n",
    "        )\n",
    "        self.emean_output = nn.Sequential(\n",
    "            nn.Linear(self.init_output*8*16,self.latent_size)\n",
    "        )\n",
    "        self.ecovariance_output = nn.Sequential(\n",
    "            nn.Linear(self.init_output*8*16,self.latent_size),\n",
    "            # force outputs to be positive\n",
    "            nn.Softplus()\n",
    "        )\n",
    "        self.encoder_layers = [self.elayer1,self.elayer2,self.elayer3,self.elayer4]\n",
    "    \n",
    "    def _build_decoder(self):\n",
    "        self.dlayer1 = nn.Sequential(\n",
    "            nn.Linear(self.latent_size,self.latent_size*2),\n",
    "            nn.ReLU()\n",
    "        )\n",
    "        self.dlayer2 = nn.Sequential(\n",
    "            nn.Linear(self.latent_size*2,self.latent_size*4),\n",
    "            nn.ReLU()\n",
    "        )\n",
    "        self.dlayer3 = nn.Sequential(\n",
    "             nn.Linear(self.latent_size*4,self.output_size**2 * self.n_channels),\n",
    "             nn.Sigmoid()\n",
    "        )\n",
    "        self.decoder_layers = [self.dlayer1,self.dlayer2,self.dlayer3]\n",
    "        \n",
    "    def _encode(self, X):\n",
    "        for layer in self.encoder_layers:\n",
    "            X = layer(X)\n",
    "        X = X.view(-1,self.init_output*8*16)\n",
    "        mu = self.emean_output(X)\n",
    "        log_sigma = self.ecovariance_output(X)\n",
    "        return mu,log_sigma\n",
    "\n",
    "    def _decode(self, Z):\n",
    "        for layer in self.decoder_layers:\n",
    "            Z = layer(Z)\n",
    "        return Z\n",
    "        \n",
    "    def sample(self, bs):\n",
    "        Z = self._decode(torch.randn(bs,self.latent_size).cuda())\n",
    "        return Z.view(-1,self.n_channels,self.output_size,self.output_size)\n",
    "        \n",
    "    def forward(self,X):\n",
    "        mu,log_sigma = self._encode(X)\n",
    "        # reparaterization trick\n",
    "        Z = mu + torch.exp(log_sigma)*torch.randn(log_sigma.shape).cuda()\n",
    "        Z = self._decode(Z)\n",
    "        \n",
    "        return mu,log_sigma,Z.view(-1,self.n_channels,self.output_size,self.output_size)"
   ]
  },
  {
   "cell_type": "code",
   "execution_count": 47,
   "metadata": {},
   "outputs": [],
   "source": [
    "vae = VAE(32,64,3).cuda()"
   ]
  },
  {
   "cell_type": "code",
   "execution_count": 48,
   "metadata": {},
   "outputs": [
    {
     "name": "stdout",
     "output_type": "stream",
     "text": [
      "Epoch 0: Loss: 8248.763671875 KL: 21.206533432006836\n",
      "Epoch 1: Loss: 7635.40576171875 KL: 33.38051223754883\n",
      "Epoch 2: Loss: 7584.763671875 KL: 29.807971954345703\n",
      "Epoch 3: Loss: 7563.41552734375 KL: 28.048171997070312\n",
      "Epoch 4: Loss: 7509.3154296875 KL: 29.806034088134766\n",
      "Epoch 5: Loss: 7454.6953125 KL: 32.42023468017578\n",
      "Epoch 6: Loss: 7443.5087890625 KL: 31.492919921875\n",
      "Epoch 7: Loss: 7430.9755859375 KL: 31.480226516723633\n",
      "Epoch 8: Loss: 7422.013671875 KL: 31.051490783691406\n",
      "Epoch 9: Loss: 7412.51123046875 KL: 31.073083877563477\n",
      "Epoch 10: Loss: 7401.8486328125 KL: 32.04916000366211\n",
      "Epoch 11: Loss: 7387.26708984375 KL: 32.582740783691406\n",
      "Epoch 12: Loss: 7382.642578125 KL: 33.389610290527344\n",
      "Epoch 13: Loss: 7372.30908203125 KL: 34.16490173339844\n",
      "Epoch 14: Loss: 7356.23583984375 KL: 35.61954116821289\n",
      "Epoch 15: Loss: 7335.52001953125 KL: 37.167518615722656\n",
      "Epoch 16: Loss: 7321.6591796875 KL: 38.158363342285156\n",
      "Epoch 17: Loss: 7310.53955078125 KL: 39.06443405151367\n",
      "Epoch 18: Loss: 7304.96044921875 KL: 39.817420959472656\n",
      "Epoch 19: Loss: 7296.9755859375 KL: 40.383548736572266\n",
      "Epoch 20: Loss: 7281.4677734375 KL: 41.999420166015625\n",
      "Epoch 21: Loss: 7271.38134765625 KL: 43.23271179199219\n",
      "Epoch 22: Loss: 7258.56787109375 KL: 43.99939727783203\n",
      "Epoch 23: Loss: 7252.8076171875 KL: 44.669166564941406\n",
      "Epoch 24: Loss: 7243.5146484375 KL: 45.35394287109375\n",
      "Epoch 25: Loss: 7242.2822265625 KL: 45.738929748535156\n",
      "Epoch 26: Loss: 7233.54345703125 KL: 46.339263916015625\n",
      "Epoch 27: Loss: 7231.03466796875 KL: 46.74298095703125\n",
      "Epoch 28: Loss: 7224.2578125 KL: 46.774864196777344\n",
      "Epoch 29: Loss: 7222.02490234375 KL: 47.112098693847656\n",
      "Epoch 30: Loss: 7222.60791015625 KL: 47.53229522705078\n",
      "Epoch 31: Loss: 7218.75390625 KL: 47.742584228515625\n",
      "Epoch 32: Loss: 7213.7099609375 KL: 47.716148376464844\n",
      "Epoch 33: Loss: 7207.4091796875 KL: 48.14246368408203\n",
      "Epoch 34: Loss: 7205.28466796875 KL: 48.45362854003906\n",
      "Epoch 35: Loss: 7201.2119140625 KL: 49.10831069946289\n",
      "Epoch 36: Loss: 7195.15673828125 KL: 49.45735549926758\n",
      "Epoch 37: Loss: 7193.7275390625 KL: 49.81254196166992\n",
      "Epoch 38: Loss: 7190.51416015625 KL: 50.24168014526367\n",
      "Epoch 39: Loss: 7185.22509765625 KL: 50.76649475097656\n",
      "Epoch 40: Loss: 7186.09765625 KL: 50.98128128051758\n",
      "Epoch 41: Loss: 7178.67138671875 KL: 51.490257263183594\n",
      "Epoch 42: Loss: 7176.4990234375 KL: 52.18255615234375\n",
      "Epoch 43: Loss: 7173.125 KL: 52.89741897583008\n",
      "Epoch 44: Loss: 7171.3056640625 KL: 52.90266799926758\n",
      "Epoch 45: Loss: 7164.1630859375 KL: 53.189762115478516\n",
      "Epoch 46: Loss: 7157.8056640625 KL: 53.54645538330078\n",
      "Epoch 47: Loss: 7163.1259765625 KL: 53.44200134277344\n",
      "Epoch 48: Loss: 7162.07958984375 KL: 53.702239990234375\n",
      "Epoch 49: Loss: 7158.35693359375 KL: 53.89674758911133\n",
      "Epoch 50: Loss: 7157.11083984375 KL: 53.95833969116211\n",
      "Epoch 51: Loss: 7153.58544921875 KL: 54.521453857421875\n",
      "Epoch 52: Loss: 7153.33349609375 KL: 54.50043487548828\n",
      "Epoch 53: Loss: 7149.47412109375 KL: 54.45560836791992\n",
      "Epoch 54: Loss: 7153.59912109375 KL: 54.265777587890625\n",
      "Epoch 55: Loss: 7150.88916015625 KL: 54.36634063720703\n",
      "Epoch 56: Loss: 7150.67529296875 KL: 54.48103713989258\n",
      "Epoch 57: Loss: 7152.28662109375 KL: 54.82351303100586\n",
      "Epoch 58: Loss: 7148.86572265625 KL: 55.235225677490234\n",
      "Epoch 59: Loss: 7150.39453125 KL: 55.326969146728516\n",
      "Epoch 60: Loss: 7148.068359375 KL: 55.387657165527344\n",
      "Epoch 61: Loss: 7147.4599609375 KL: 54.870689392089844\n",
      "Epoch 62: Loss: 7144.65966796875 KL: 55.45518493652344\n",
      "Epoch 63: Loss: 7143.94677734375 KL: 55.657936096191406\n",
      "Epoch 64: Loss: 7142.982421875 KL: 55.371219635009766\n",
      "Epoch 65: Loss: 7144.224609375 KL: 55.19489669799805\n",
      "Epoch 66: Loss: 7141.1552734375 KL: 55.636539459228516\n",
      "Epoch 67: Loss: 7141.3388671875 KL: 55.86772537231445\n",
      "Epoch 68: Loss: 7141.67529296875 KL: 55.62775802612305\n",
      "Epoch 69: Loss: 7139.00927734375 KL: 56.030921936035156\n",
      "Epoch 70: Loss: 7140.67626953125 KL: 56.121177673339844\n",
      "Epoch 71: Loss: 7138.8203125 KL: 56.060150146484375\n",
      "Epoch 72: Loss: 7136.12255859375 KL: 56.25316619873047\n",
      "Epoch 73: Loss: 7135.9306640625 KL: 56.626014709472656\n",
      "Epoch 74: Loss: 7135.11279296875 KL: 56.473384857177734\n",
      "Epoch 75: Loss: 7135.6455078125 KL: 56.78419876098633\n",
      "Epoch 76: Loss: 7136.19287109375 KL: 57.02818298339844\n",
      "Epoch 77: Loss: 7131.2197265625 KL: 57.02427291870117\n",
      "Epoch 78: Loss: 7131.9404296875 KL: 57.27195739746094\n",
      "Epoch 79: Loss: 7130.7236328125 KL: 57.49394226074219\n",
      "Epoch 80: Loss: 7129.69873046875 KL: 57.673919677734375\n",
      "Epoch 81: Loss: 7128.1083984375 KL: 58.55986022949219\n",
      "Epoch 82: Loss: 7121.67333984375 KL: 58.43244552612305\n",
      "Epoch 83: Loss: 7124.5302734375 KL: 58.45240783691406\n",
      "Epoch 84: Loss: 7123.72265625 KL: 58.51042938232422\n",
      "Epoch 85: Loss: 7120.6650390625 KL: 58.55500411987305\n",
      "Epoch 86: Loss: 7119.7568359375 KL: 58.92863845825195\n",
      "Epoch 87: Loss: 7119.84423828125 KL: 59.412967681884766\n",
      "Epoch 88: Loss: 7117.8095703125 KL: 59.46145248413086\n",
      "Epoch 89: Loss: 7115.7919921875 KL: 59.65243148803711\n",
      "Epoch 90: Loss: 7114.12841796875 KL: 59.96435546875\n",
      "Epoch 91: Loss: 7112.22900390625 KL: 60.19581604003906\n",
      "Epoch 92: Loss: 7114.576171875 KL: 60.455116271972656\n",
      "Epoch 93: Loss: 7110.91748046875 KL: 60.465084075927734\n",
      "Epoch 94: Loss: 7109.625 KL: 60.90226364135742\n",
      "Epoch 95: Loss: 7108.30224609375 KL: 61.57432174682617\n",
      "Epoch 96: Loss: 7108.17138671875 KL: 61.67902374267578\n",
      "Epoch 97: Loss: 7105.41259765625 KL: 61.756744384765625\n",
      "Epoch 98: Loss: 7104.3349609375 KL: 61.729068756103516\n",
      "Epoch 99: Loss: 7103.8193359375 KL: 61.970458984375\n"
     ]
    }
   ],
   "source": [
    "optimizer = torch.optim.Adam(vae.parameters(),lr = 0.0002, betas = (0.5,0.999))\n",
    "n_epochs = 100\n",
    "\n",
    "for e in range(n_epochs):\n",
    "    losses = []\n",
    "    KL_losses = []\n",
    "    for i,batch in enumerate(dataset):\n",
    "        vae.zero_grad()\n",
    "        batch_ = batch.float().cuda()\n",
    "        mu,log_sigma,out = vae(batch_)\n",
    "        \n",
    "\n",
    "        # losses\n",
    "        KL = -1/2 * torch.sum(1 + 2*log_sigma - torch.pow(mu,2) - torch.exp(2*log_sigma) ,1)\n",
    "        KL_losses.append(torch.mean(KL.data))\n",
    "        \n",
    "        bce = -torch.sum(torch.sum(torch.sum( batch_ * torch.log(1e-10 + out) + (1-batch_) * torch.log(1e-10 + (1-out)), 1),1),1)\n",
    "        \n",
    "        loss = torch.mean(bce) + torch.mean(KL)\n",
    "        losses.append(loss.data)\n",
    "\n",
    "        loss.backward()\n",
    "        optimizer.step()\n",
    "    print('Epoch {e}: Loss: {loss} KL: {lol}'.format(e=e, loss = np.mean(losses), lol = np.mean(KL_losses)))\n",
    "    if e%5 == 0:\n",
    "        ex = vae.sample(12).cpu().detach().numpy()\n",
    "        out = np.moveaxis(ex,1,3)\n",
    "    #     imgs = vf(out)\n",
    "    #     imgs = np.clip(img,0,255).astype('uint8')\n",
    "        np.save('./results/vae_anime_epoch_' + str(e),out)\n",
    "    "
   ]
  },
  {
   "cell_type": "code",
   "execution_count": 49,
   "metadata": {},
   "outputs": [],
   "source": [
    "import matplotlib.pyplot as plt\n",
    "%matplotlib inline"
   ]
  },
  {
   "cell_type": "code",
   "execution_count": 50,
   "metadata": {},
   "outputs": [],
   "source": [
    "out_ = out[8].cpu().data.numpy()\n",
    "out_ = np.moveaxis(out_,0,2)"
   ]
  },
  {
   "cell_type": "code",
   "execution_count": 51,
   "metadata": {},
   "outputs": [],
   "source": [
    "denormalizer = lambda p: p*255"
   ]
  },
  {
   "cell_type": "code",
   "execution_count": 52,
   "metadata": {},
   "outputs": [],
   "source": [
    "vf = np.vectorize(denormalizer)"
   ]
  },
  {
   "cell_type": "code",
   "execution_count": 53,
   "metadata": {},
   "outputs": [],
   "source": [
    "img = vf(out_)"
   ]
  },
  {
   "cell_type": "code",
   "execution_count": 54,
   "metadata": {},
   "outputs": [],
   "source": [
    "img = np.clip(img,0,255).astype('uint8')"
   ]
  },
  {
   "cell_type": "code",
   "execution_count": 55,
   "metadata": {},
   "outputs": [
    {
     "data": {
      "text/plain": [
       "<matplotlib.image.AxesImage at 0x1af800d47f0>"
      ]
     },
     "execution_count": 55,
     "metadata": {},
     "output_type": "execute_result"
    },
    {
     "data": {
      "image/png": "[encoded data removed]",
      "text/plain": [
       "<matplotlib.figure.Figure at 0x1b011cd9b38>"
      ]
     },
     "metadata": {},
     "output_type": "display_data"
    }
   ],
   "source": [
    "plt.imshow(img)"
   ]
  },
  {
   "cell_type": "code",
   "execution_count": 61,
   "metadata": {},
   "outputs": [
    {
     "data": {
      "text/plain": [
       "array([[[232, 236, 169],\n",
       "        [192, 221, 186],\n",
       "        [184, 162, 227],\n",
       "        ...,\n",
       "        [209, 149, 202],\n",
       "        [125,  77, 116],\n",
       "        [144,  54, 199]],\n",
       "\n",
       "       [[237, 210, 179],\n",
       "        [206, 248, 249],\n",
       "        [239, 238, 239],\n",
       "        ...,\n",
       "        [189,  69, 198],\n",
       "        [205,  54,  83],\n",
       "        [211, 139, 216]],\n",
       "\n",
       "       [[109, 246, 149],\n",
       "        [152, 212, 228],\n",
       "        [213, 231, 245],\n",
       "        ...,\n",
       "        [168,  61, 154],\n",
       "        [ 67,  94,  93],\n",
       "        [121, 156, 184]],\n",
       "\n",
       "       ...,\n",
       "\n",
       "       [[ 51, 182,  72],\n",
       "        [139, 154,  37],\n",
       "        [ 75,  57,  55],\n",
       "        ...,\n",
       "        [144,  54, 182],\n",
       "        [ 95,  47,  62],\n",
       "        [ 48,  86,  39]],\n",
       "\n",
       "       [[168, 102,  44],\n",
       "        [132,  41,  35],\n",
       "        [ 61,  33,  39],\n",
       "        ...,\n",
       "        [132,  47,  88],\n",
       "        [ 83, 175, 205],\n",
       "        [ 82,  15, 130]],\n",
       "\n",
       "       [[130, 162,  30],\n",
       "        [170,  34,  25],\n",
       "        [ 30, 128,  24],\n",
       "        ...,\n",
       "        [ 80,  49, 107],\n",
       "        [187,  37, 106],\n",
       "        [122,  29,  68]]], dtype=uint8)"
      ]
     },
     "execution_count": 61,
     "metadata": {},
     "output_type": "execute_result"
    }
   ],
   "source": [
    "img"
   ]
  },
  {
   "cell_type": "code",
   "execution_count": null,
   "metadata": {},
   "outputs": [],
   "source": []
  }
 ],
 "metadata": {
  "kernelspec": {
   "display_name": "Python 3",
   "language": "python",
   "name": "python3"
  },
  "language_info": {
   "codemirror_mode": {
    "name": "ipython",
    "version": 3
   },
   "file_extension": ".py",
   "mimetype": "text/x-python",
   "name": "python",
   "nbconvert_exporter": "python",
   "pygments_lexer": "ipython3",
   "version": "3.6.4"
  }
 },
 "nbformat": 4,
 "nbformat_minor": 2
}
