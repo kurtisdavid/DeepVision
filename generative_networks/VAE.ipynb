{
 "cells": [
  {
   "cell_type": "code",
   "execution_count": 1,
   "metadata": {},
   "outputs": [],
   "source": [
    "import torch\n",
    "import numpy as np"
   ]
  },
  {
   "cell_type": "markdown",
   "metadata": {},
   "source": [
    "### Load Dataset"
   ]
  },
  {
   "cell_type": "code",
   "execution_count": 2,
   "metadata": {},
   "outputs": [],
   "source": [
    "from torch.utils.data import DataLoader"
   ]
  },
  {
   "cell_type": "code",
   "execution_count": 3,
   "metadata": {},
   "outputs": [],
   "source": [
    "data = np.load('./dataset/data64.npy')"
   ]
  },
  {
   "cell_type": "code",
   "execution_count": 4,
   "metadata": {},
   "outputs": [
    {
     "data": {
      "text/plain": [
       "(3376, 3, 64, 64)"
      ]
     },
     "execution_count": 4,
     "metadata": {},
     "output_type": "execute_result"
    }
   ],
   "source": [
    "data.shape"
   ]
  },
  {
   "cell_type": "code",
   "execution_count": 30,
   "metadata": {},
   "outputs": [],
   "source": [
    "# normalize to [0, 1]\n",
    "normalizer = lambda p: (p/255)\n",
    "vfunc = np.vectorize(normalizer)\n",
    "data_n = vfunc(data)"
   ]
  },
  {
   "cell_type": "code",
   "execution_count": 31,
   "metadata": {},
   "outputs": [],
   "source": [
    "dataset = DataLoader(data_n,batch_size = 32,shuffle=True)"
   ]
  },
  {
   "cell_type": "markdown",
   "metadata": {},
   "source": [
    "## VAE"
   ]
  },
  {
   "cell_type": "code",
   "execution_count": 8,
   "metadata": {},
   "outputs": [],
   "source": [
    "import torch.nn as nn"
   ]
  },
  {
   "cell_type": "code",
   "execution_count": 66,
   "metadata": {},
   "outputs": [],
   "source": [
    "class VAE(nn.Module):\n",
    "    \n",
    "    def __init__(self, latent_size, output_size, n_channels):\n",
    "        super(VAE,self).__init__()\n",
    "        params = {'kernel_size': 5, 'stride': 2, 'padding': 2}\n",
    "        self.init_output = 3\n",
    "        self.latent_size = latent_size\n",
    "        self.output_size = output_size\n",
    "        self.n_channels = n_channels\n",
    "        self._build_encoder(params)\n",
    "        self._build_decoder()\n",
    "        \n",
    "        \n",
    "    \n",
    "    def _build_encoder(self,params):\n",
    "        self.elayer1 = nn.Sequential(\n",
    "            nn.Conv2d(in_channels = 3, out_channels = self.init_output, **params),\n",
    "            nn.BatchNorm2d(num_features = self.init_output),\n",
    "            nn.LeakyReLU(0.2)\n",
    "        )\n",
    "        self.elayer2 = nn.Sequential(\n",
    "            nn.Conv2d(in_channels = self.init_output, out_channels = self.init_output*2, **params),\n",
    "            nn.BatchNorm2d(num_features = self.init_output*2),\n",
    "            nn.LeakyReLU(0.2)\n",
    "        )\n",
    "        self.elayer3 = nn.Sequential(\n",
    "            nn.Conv2d(in_channels = self.init_output*2, out_channels = self.init_output*4, **params),\n",
    "            nn.BatchNorm2d(num_features = self.init_output*4),\n",
    "            nn.LeakyReLU(0.2)\n",
    "        )\n",
    "        self.elayer4 = nn.Sequential(\n",
    "            nn.Conv2d(in_channels = self.init_output*4, out_channels = self.init_output*8, **params),\n",
    "            nn.BatchNorm2d(num_features = self.init_output*8),\n",
    "            nn.LeakyReLU(0.2)\n",
    "        )\n",
    "        self.emean_output = nn.Sequential(\n",
    "            nn.Linear(self.init_output*8*16,self.latent_size)\n",
    "        )\n",
    "        self.ecovariance_output = nn.Sequential(\n",
    "            nn.Linear(self.init_output*8*16,self.latent_size),\n",
    "            # force outputs to be positive\n",
    "            nn.Softplus()\n",
    "        )\n",
    "        self.encoder_layers = [self.elayer1,self.elayer2,self.elayer3,self.elayer4]\n",
    "    \n",
    "    def _build_decoder(self):\n",
    "        self.dlayer1 = nn.Sequential(\n",
    "            nn.Linear(self.latent_size,self.latent_size*2),\n",
    "            nn.ReLU()\n",
    "        )\n",
    "        self.dlayer2 = nn.Sequential(\n",
    "            nn.Linear(self.latent_size*2,self.latent_size*4),\n",
    "            nn.ReLU()\n",
    "        )\n",
    "        self.dmean_output = nn.Sequential(\n",
    "            nn.Linear(self.latent_size*4,self.output_size**2 * self.n_channels)\n",
    "        )\n",
    "        self.dcovariance_output = nn.Sequential(\n",
    "            nn.Linear(self.latent_size*4,self.output_size**2 * self.n_channels),\n",
    "            # force outputs to be positive\n",
    "            nn.Softplus()\n",
    "        )\n",
    "        self.decoder_layers = [self.dlayer1,self.dlayer2]\n",
    "    \n",
    "    \n",
    "    def forward(self,X):\n",
    "        for layer in self.encoder_layers:\n",
    "            X = layer(X)\n",
    "        X = X.view(-1,self.init_output*8*16)\n",
    "        mu_ = self.emean_output(X)\n",
    "        log_sigma_ = self.ecovariance_output(X)\n",
    "        # reparaterization trick\n",
    "        Z = mu_ + torch.exp(log_sigma_)*torch.randn(log_sigma_.shape).cuda()\n",
    "        \n",
    "        for layer in self.decoder_layers:\n",
    "            Z = layer(Z)\n",
    "        mu = self.dmean_output(Z)\n",
    "        log_sigma = self.dcovariance_output(Z)\n",
    "        out = mu + torch.exp(log_sigma)*torch.randn(log_sigma.shape).cuda()\n",
    "        \n",
    "        return mu_,log_sigma_,out.view(-1,self.n_channels,self.output_size,self.output_size)"
   ]
  },
  {
   "cell_type": "code",
   "execution_count": 52,
   "metadata": {},
   "outputs": [],
   "source": [
    "vae = VAE(32,64,3).cuda()"
   ]
  },
  {
   "cell_type": "code",
   "execution_count": null,
   "metadata": {},
   "outputs": [],
   "source": []
  },
  {
   "cell_type": "code",
   "execution_count": 65,
   "metadata": {},
   "outputs": [
    {
     "name": "stdout",
     "output_type": "stream",
     "text": [
      "Epoch 0: Loss: 87636.265625 KL: 0\n",
      "Epoch 1: Loss: 86626.109375 KL: 0\n",
      "Epoch 2: Loss: 86131.0 KL: 0\n",
      "Epoch 3: Loss: 85827.8203125 KL: 0\n",
      "Epoch 4: Loss: 85682.6796875 KL: 0\n",
      "Epoch 5: Loss: 85530.9140625 KL: 0\n",
      "Epoch 6: Loss: 85435.0625 KL: 0\n",
      "Epoch 7: Loss: 85356.953125 KL: 0\n",
      "Epoch 8: Loss: 85258.921875 KL: 0\n",
      "Epoch 9: Loss: 85202.640625 KL: 0\n",
      "Epoch 10: Loss: 85192.9921875 KL: 0\n",
      "Epoch 11: Loss: 85159.484375 KL: 0\n",
      "Epoch 12: Loss: 85112.0546875 KL: 0\n",
      "Epoch 13: Loss: 85055.140625 KL: 0\n",
      "Epoch 14: Loss: 85048.828125 KL: 0\n",
      "Epoch 15: Loss: 85030.5 KL: 0\n",
      "Epoch 16: Loss: 85015.3984375 KL: 0\n",
      "Epoch 17: Loss: 85005.921875 KL: 0\n",
      "Epoch 18: Loss: 84982.3515625 KL: 0\n",
      "Epoch 19: Loss: 84990.0859375 KL: 0\n",
      "Epoch 20: Loss: 84961.953125 KL: 0\n",
      "Epoch 21: Loss: 84943.8046875 KL: 0\n",
      "Epoch 22: Loss: 84950.953125 KL: 0\n"
     ]
    },
    {
     "ename": "KeyboardInterrupt",
     "evalue": "",
     "output_type": "error",
     "traceback": [
      "\u001b[1;31m---------------------------------------------------------------------------\u001b[0m",
      "\u001b[1;31mKeyboardInterrupt\u001b[0m                         Traceback (most recent call last)",
      "\u001b[1;32m<ipython-input-65-ca7b7b4cd1f0>\u001b[0m in \u001b[0;36m<module>\u001b[1;34m()\u001b[0m\n\u001b[0;32m      7\u001b[0m         \u001b[0mvae\u001b[0m\u001b[1;33m.\u001b[0m\u001b[0mzero_grad\u001b[0m\u001b[1;33m(\u001b[0m\u001b[1;33m)\u001b[0m\u001b[1;33m\u001b[0m\u001b[0m\n\u001b[0;32m      8\u001b[0m         \u001b[0mbatch_\u001b[0m \u001b[1;33m=\u001b[0m \u001b[0mbatch\u001b[0m\u001b[1;33m.\u001b[0m\u001b[0mfloat\u001b[0m\u001b[1;33m(\u001b[0m\u001b[1;33m)\u001b[0m\u001b[1;33m.\u001b[0m\u001b[0mcuda\u001b[0m\u001b[1;33m(\u001b[0m\u001b[1;33m)\u001b[0m\u001b[1;33m\u001b[0m\u001b[0m\n\u001b[1;32m----> 9\u001b[1;33m         \u001b[0mmu\u001b[0m\u001b[1;33m,\u001b[0m\u001b[0mlog_sigma\u001b[0m\u001b[1;33m,\u001b[0m\u001b[0mout\u001b[0m \u001b[1;33m=\u001b[0m \u001b[0mvae\u001b[0m\u001b[1;33m(\u001b[0m\u001b[0mbatch_\u001b[0m\u001b[1;33m)\u001b[0m\u001b[1;33m\u001b[0m\u001b[0m\n\u001b[0m\u001b[0;32m     10\u001b[0m \u001b[1;33m\u001b[0m\u001b[0m\n\u001b[0;32m     11\u001b[0m \u001b[1;33m\u001b[0m\u001b[0m\n",
      "\u001b[1;32m~\\Anaconda3\\lib\\site-packages\\torch\\nn\\modules\\module.py\u001b[0m in \u001b[0;36m__call__\u001b[1;34m(self, *input, **kwargs)\u001b[0m\n\u001b[0;32m    489\u001b[0m             \u001b[0mresult\u001b[0m \u001b[1;33m=\u001b[0m \u001b[0mself\u001b[0m\u001b[1;33m.\u001b[0m\u001b[0m_slow_forward\u001b[0m\u001b[1;33m(\u001b[0m\u001b[1;33m*\u001b[0m\u001b[0minput\u001b[0m\u001b[1;33m,\u001b[0m \u001b[1;33m**\u001b[0m\u001b[0mkwargs\u001b[0m\u001b[1;33m)\u001b[0m\u001b[1;33m\u001b[0m\u001b[0m\n\u001b[0;32m    490\u001b[0m         \u001b[1;32melse\u001b[0m\u001b[1;33m:\u001b[0m\u001b[1;33m\u001b[0m\u001b[0m\n\u001b[1;32m--> 491\u001b[1;33m             \u001b[0mresult\u001b[0m \u001b[1;33m=\u001b[0m \u001b[0mself\u001b[0m\u001b[1;33m.\u001b[0m\u001b[0mforward\u001b[0m\u001b[1;33m(\u001b[0m\u001b[1;33m*\u001b[0m\u001b[0minput\u001b[0m\u001b[1;33m,\u001b[0m \u001b[1;33m**\u001b[0m\u001b[0mkwargs\u001b[0m\u001b[1;33m)\u001b[0m\u001b[1;33m\u001b[0m\u001b[0m\n\u001b[0m\u001b[0;32m    492\u001b[0m         \u001b[1;32mfor\u001b[0m \u001b[0mhook\u001b[0m \u001b[1;32min\u001b[0m \u001b[0mself\u001b[0m\u001b[1;33m.\u001b[0m\u001b[0m_forward_hooks\u001b[0m\u001b[1;33m.\u001b[0m\u001b[0mvalues\u001b[0m\u001b[1;33m(\u001b[0m\u001b[1;33m)\u001b[0m\u001b[1;33m:\u001b[0m\u001b[1;33m\u001b[0m\u001b[0m\n\u001b[0;32m    493\u001b[0m             \u001b[0mhook_result\u001b[0m \u001b[1;33m=\u001b[0m \u001b[0mhook\u001b[0m\u001b[1;33m(\u001b[0m\u001b[0mself\u001b[0m\u001b[1;33m,\u001b[0m \u001b[0minput\u001b[0m\u001b[1;33m,\u001b[0m \u001b[0mresult\u001b[0m\u001b[1;33m)\u001b[0m\u001b[1;33m\u001b[0m\u001b[0m\n",
      "\u001b[1;32m<ipython-input-35-690f047c5d29>\u001b[0m in \u001b[0;36mforward\u001b[1;34m(self, X)\u001b[0m\n\u001b[0;32m     77\u001b[0m         \u001b[0mmu\u001b[0m \u001b[1;33m=\u001b[0m \u001b[0mself\u001b[0m\u001b[1;33m.\u001b[0m\u001b[0mdmean_output\u001b[0m\u001b[1;33m(\u001b[0m\u001b[0mZ\u001b[0m\u001b[1;33m)\u001b[0m\u001b[1;33m\u001b[0m\u001b[0m\n\u001b[0;32m     78\u001b[0m         \u001b[0mlog_sigma\u001b[0m \u001b[1;33m=\u001b[0m \u001b[0mself\u001b[0m\u001b[1;33m.\u001b[0m\u001b[0mdcovariance_output\u001b[0m\u001b[1;33m(\u001b[0m\u001b[0mZ\u001b[0m\u001b[1;33m)\u001b[0m\u001b[1;33m\u001b[0m\u001b[0m\n\u001b[1;32m---> 79\u001b[1;33m         \u001b[0mout\u001b[0m \u001b[1;33m=\u001b[0m \u001b[0mtorch\u001b[0m\u001b[1;33m.\u001b[0m\u001b[0mclamp\u001b[0m\u001b[1;33m(\u001b[0m\u001b[0mmu\u001b[0m \u001b[1;33m+\u001b[0m \u001b[0mtorch\u001b[0m\u001b[1;33m.\u001b[0m\u001b[0mexp\u001b[0m\u001b[1;33m(\u001b[0m\u001b[0mlog_sigma\u001b[0m\u001b[1;33m)\u001b[0m\u001b[1;33m*\u001b[0m\u001b[0mtorch\u001b[0m\u001b[1;33m.\u001b[0m\u001b[0mrandn\u001b[0m\u001b[1;33m(\u001b[0m\u001b[0mlog_sigma\u001b[0m\u001b[1;33m.\u001b[0m\u001b[0mshape\u001b[0m\u001b[1;33m)\u001b[0m\u001b[1;33m.\u001b[0m\u001b[0mcuda\u001b[0m\u001b[1;33m(\u001b[0m\u001b[1;33m)\u001b[0m\u001b[1;33m,\u001b[0m\u001b[1;36m0\u001b[0m\u001b[1;33m,\u001b[0m\u001b[1;36m1\u001b[0m\u001b[1;33m)\u001b[0m\u001b[1;33m\u001b[0m\u001b[0m\n\u001b[0m\u001b[0;32m     80\u001b[0m \u001b[1;33m\u001b[0m\u001b[0m\n\u001b[0;32m     81\u001b[0m         \u001b[1;32mreturn\u001b[0m \u001b[0mmu_\u001b[0m\u001b[1;33m,\u001b[0m\u001b[0mlog_sigma_\u001b[0m\u001b[1;33m,\u001b[0m\u001b[0mout\u001b[0m\u001b[1;33m.\u001b[0m\u001b[0mview\u001b[0m\u001b[1;33m(\u001b[0m\u001b[1;33m-\u001b[0m\u001b[1;36m1\u001b[0m\u001b[1;33m,\u001b[0m\u001b[0mself\u001b[0m\u001b[1;33m.\u001b[0m\u001b[0mn_channels\u001b[0m\u001b[1;33m,\u001b[0m\u001b[0mself\u001b[0m\u001b[1;33m.\u001b[0m\u001b[0moutput_size\u001b[0m\u001b[1;33m,\u001b[0m\u001b[0mself\u001b[0m\u001b[1;33m.\u001b[0m\u001b[0moutput_size\u001b[0m\u001b[1;33m)\u001b[0m\u001b[1;33m\u001b[0m\u001b[0m\n",
      "\u001b[1;31mKeyboardInterrupt\u001b[0m: "
     ]
    }
   ],
   "source": [
    "optimizer = torch.optim.Adam(vae.parameters(),lr = 0.01, betas = (0.5,0.999))\n",
    "n_epochs = 100\n",
    "for e in range(n_epochs):\n",
    "    losses = []\n",
    "    KL_losses = []\n",
    "    for i,batch in enumerate(dataset):\n",
    "        vae.zero_grad()\n",
    "        batch_ = batch.float().cuda()\n",
    "        mu,log_sigma,out = vae(batch_)\n",
    "        \n",
    "\n",
    "        # losses\n",
    "#         KL = torch.sum(-1/2 * (torch.pow(mu,2) + 2*torch.exp(log_sigma) - 1 - 2*log_sigma),1)\n",
    "#         KL_losses.append(torch.mean(KL.data))\n",
    "#         print(i,out,log_sigma_sq,KL.data)\n",
    "        bce = -torch.sum(torch.sum(torch.sum( batch_ * torch.log(1e-10 + out) + (1-batch_) * torch.log(1e-10 + (1-out)), 1),1),1)\n",
    "        \n",
    "        loss = torch.mean(bce)\n",
    "        losses.append(loss.data)\n",
    "\n",
    "        loss.backward()\n",
    "        optimizer.step()\n",
    "#     print(losses)\n",
    "    print('Epoch {e}: Loss: {loss} KL: {lol}'.format(e=e, loss = np.mean(losses), lol = 0))\n",
    "    "
   ]
  },
  {
   "cell_type": "code",
   "execution_count": 63,
   "metadata": {},
   "outputs": [],
   "source": [
    "import matplotlib.pyplot as plt\n",
    "%matplotlib inline"
   ]
  },
  {
   "cell_type": "code",
   "execution_count": 71,
   "metadata": {},
   "outputs": [],
   "source": [
    "out_ = out[10].cpu().data.numpy()\n",
    "out_ = np.moveaxis(out_,0,2)"
   ]
  },
  {
   "cell_type": "code",
   "execution_count": 58,
   "metadata": {},
   "outputs": [],
   "source": [
    "denormalizer = lambda p: p*255"
   ]
  },
  {
   "cell_type": "code",
   "execution_count": 59,
   "metadata": {},
   "outputs": [],
   "source": [
    "vf = np.vectorize(denormalizer)"
   ]
  },
  {
   "cell_type": "code",
   "execution_count": 72,
   "metadata": {},
   "outputs": [],
   "source": [
    "img = vf(out_)"
   ]
  },
  {
   "cell_type": "code",
   "execution_count": 73,
   "metadata": {},
   "outputs": [],
   "source": [
    "img = np.clip(img,0,255).astype('uint8')"
   ]
  },
  {
   "cell_type": "code",
   "execution_count": 74,
   "metadata": {},
   "outputs": [
    {
     "data": {
      "text/plain": [
       "<matplotlib.image.AxesImage at 0x1a94d20d128>"
      ]
     },
     "execution_count": 74,
     "metadata": {},
     "output_type": "execute_result"
    },
    {
     "data": {
      "image/png": "[encoded data removed]",
      "text/plain": [
       "<matplotlib.figure.Figure at 0x1a9499f8048>"
      ]
     },
     "metadata": {},
     "output_type": "display_data"
    }
   ],
   "source": [
    "plt.imshow(img)"
   ]
  },
  {
   "cell_type": "code",
   "execution_count": 75,
   "metadata": {},
   "outputs": [
    {
     "data": {
      "text/plain": [
       "array([[[  0,   0,   9],\n",
       "        [  0,  34,   0],\n",
       "        [255,   0, 255],\n",
       "        ...,\n",
       "        [  0, 255, 175],\n",
       "        [112,   0,  52],\n",
       "        [168,   0,   0]],\n",
       "\n",
       "       [[255, 255, 255],\n",
       "        [  0, 226, 255],\n",
       "        [255, 255, 174],\n",
       "        ...,\n",
       "        [ 46,  61,   0],\n",
       "        [255,  95,  15],\n",
       "        [  0,  24,   0]],\n",
       "\n",
       "       [[117, 255, 255],\n",
       "        [ 72, 255, 177],\n",
       "        [255, 255,   0],\n",
       "        ...,\n",
       "        [ 15, 255, 124],\n",
       "        [  0,  93,   0],\n",
       "        [ 35,  59,   0]],\n",
       "\n",
       "       ...,\n",
       "\n",
       "       [[  0, 255,  85],\n",
       "        [ 94,  86, 204],\n",
       "        [255,   0,  85],\n",
       "        ...,\n",
       "        [255, 255, 255],\n",
       "        [149,  42, 255],\n",
       "        [206, 134,   0]],\n",
       "\n",
       "       [[255, 255,   0],\n",
       "        [208,   0, 255],\n",
       "        [255, 255,   0],\n",
       "        ...,\n",
       "        [255,   0, 255],\n",
       "        [255, 255, 255],\n",
       "        [255, 255,   0]],\n",
       "\n",
       "       [[255, 255,   0],\n",
       "        [185, 255,  52],\n",
       "        [185, 255,   0],\n",
       "        ...,\n",
       "        [255, 167,   0],\n",
       "        [255, 255, 254],\n",
       "        [  0, 255,  95]]], dtype=uint8)"
      ]
     },
     "execution_count": 75,
     "metadata": {},
     "output_type": "execute_result"
    }
   ],
   "source": [
    "img"
   ]
  },
  {
   "cell_type": "code",
   "execution_count": null,
   "metadata": {},
   "outputs": [],
   "source": []
  }
 ],
 "metadata": {
  "kernelspec": {
   "display_name": "Python 3",
   "language": "python",
   "name": "python3"
  },
  "language_info": {
   "codemirror_mode": {
    "name": "ipython",
    "version": 3
   },
   "file_extension": ".py",
   "mimetype": "text/x-python",
   "name": "python",
   "nbconvert_exporter": "python",
   "pygments_lexer": "ipython3",
   "version": "3.6.4"
  }
 },
 "nbformat": 4,
 "nbformat_minor": 2
}
